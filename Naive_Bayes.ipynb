{
  "nbformat": 4,
  "nbformat_minor": 0,
  "metadata": {
    "colab": {
      "provenance": [],
      "collapsed_sections": [
        "-HVwBhDuYsRi",
        "pLbq6c8QcDE7",
        "Ps5h8TQ7mijk",
        "rkofq-ar2Lll",
        "sJEeEX7hofC6",
        "TFmb3zRMt18n",
        "63GqXI8Bs5JJ",
        "trxOgbQFrchZ",
        "HkcqG7THxAi_",
        "Icgua6b15JDT",
        "B0hUX9F-9lHu"
      ],
      "mount_file_id": "1XWd7tG8HJ84G0zF9sJOCxzYnBQh3eIV7",
      "authorship_tag": "ABX9TyMhtlxPT0FACyhSghO/hUbA",
      "include_colab_link": true
    },
    "kernelspec": {
      "name": "python3",
      "display_name": "Python 3"
    },
    "language_info": {
      "name": "python"
    }
  },
  "cells": [
    {
      "cell_type": "markdown",
      "metadata": {
        "id": "view-in-github",
        "colab_type": "text"
      },
      "source": [
        "<a href=\"https://colab.research.google.com/github/AtifQureshi110/NLP/blob/main/Naive_Bayes.ipynb\" target=\"_parent\"><img src=\"https://colab.research.google.com/assets/colab-badge.svg\" alt=\"Open In Colab\"/></a>"
      ]
    },
    {
      "cell_type": "markdown",
      "source": [
        "## Naive Bayes\n",
        "- Naive Bayes methods are a set of supervised learning algorithms based on applying Bayes’ theorem with the “naive” assumption of conditional independence between every pair of features, class variable y and dependent feature x1 vector xn through.\n",
        "\n",
        "\n",
        "- The different naive Bayes classifiers differ mainly by the assumptions they make regarding the distribution of p(x|y)\n",
        "\n",
        "\n",
        "- In spite of their apparently over-simplified assumptions, naive Bayes classifiers have worked quite well in many real-world situations, famously document classification and spam filtering. They require a small amount of training data to estimate the necessary parameters.\n",
        "\n",
        "- Naive Bayes learners and classifiers can be extremely fast compared to more sophisticated methods.\n",
        "\n",
        "- On the flip side, although naive Bayes is known as a decent classifier, it is known to be a bad estimator, so the probability outputs from predict_proba are not to be taken too seriously."
      ],
      "metadata": {
        "id": "-HVwBhDuYsRi"
      }
    },
    {
      "cell_type": "markdown",
      "source": [
        "- Gaussian Naive Bayes"
      ],
      "metadata": {
        "id": "Te7XoUhFbsMr"
      }
    },
    {
      "cell_type": "markdown",
      "source": [
        "## DATA"
      ],
      "metadata": {
        "id": "pLbq6c8QcDE7"
      }
    },
    {
      "cell_type": "code",
      "source": [
        "import pandas as pd"
      ],
      "metadata": {
        "id": "IWbSLngBb9GB"
      },
      "execution_count": null,
      "outputs": []
    },
    {
      "cell_type": "code",
      "source": [
        "messages_df= pd.read_csv('/content/drive/MyDrive/NLP/SMSSpamCollection.txt', sep='\\t', names=[\"label\", \"message\"])\n",
        "messages_df"
      ],
      "metadata": {
        "colab": {
          "base_uri": "https://localhost:8080/"
        },
        "id": "HMe36FgYcBYl",
        "outputId": "82637d62-989a-4499-fd19-7a2c6f2b41ed"
      },
      "execution_count": null,
      "outputs": [
        {
          "output_type": "execute_result",
          "data": {
            "text/plain": [
              "     label                                            message\n",
              "0      ham  Go until jurong point, crazy.. Available only ...\n",
              "1      ham                      Ok lar... Joking wif u oni...\n",
              "2     spam  Free entry in 2 a wkly comp to win FA Cup fina...\n",
              "3      ham  U dun say so early hor... U c already then say...\n",
              "4      ham  Nah I don't think he goes to usf, he lives aro...\n",
              "...    ...                                                ...\n",
              "5567  spam  This is the 2nd time we have tried 2 contact u...\n",
              "5568   ham               Will ü b going to esplanade fr home?\n",
              "5569   ham  Pity, * was in mood for that. So...any other s...\n",
              "5570   ham  The guy did some bitching but I acted like i'd...\n",
              "5571   ham                         Rofl. Its true to its name\n",
              "\n",
              "[5572 rows x 2 columns]"
            ],
            "text/html": [
              "\n",
              "  <div id=\"df-01c4bd9a-4f84-43cd-b0aa-921874722be0\">\n",
              "    <div class=\"colab-df-container\">\n",
              "      <div>\n",
              "<style scoped>\n",
              "    .dataframe tbody tr th:only-of-type {\n",
              "        vertical-align: middle;\n",
              "    }\n",
              "\n",
              "    .dataframe tbody tr th {\n",
              "        vertical-align: top;\n",
              "    }\n",
              "\n",
              "    .dataframe thead th {\n",
              "        text-align: right;\n",
              "    }\n",
              "</style>\n",
              "<table border=\"1\" class=\"dataframe\">\n",
              "  <thead>\n",
              "    <tr style=\"text-align: right;\">\n",
              "      <th></th>\n",
              "      <th>label</th>\n",
              "      <th>message</th>\n",
              "    </tr>\n",
              "  </thead>\n",
              "  <tbody>\n",
              "    <tr>\n",
              "      <th>0</th>\n",
              "      <td>ham</td>\n",
              "      <td>Go until jurong point, crazy.. Available only ...</td>\n",
              "    </tr>\n",
              "    <tr>\n",
              "      <th>1</th>\n",
              "      <td>ham</td>\n",
              "      <td>Ok lar... Joking wif u oni...</td>\n",
              "    </tr>\n",
              "    <tr>\n",
              "      <th>2</th>\n",
              "      <td>spam</td>\n",
              "      <td>Free entry in 2 a wkly comp to win FA Cup fina...</td>\n",
              "    </tr>\n",
              "    <tr>\n",
              "      <th>3</th>\n",
              "      <td>ham</td>\n",
              "      <td>U dun say so early hor... U c already then say...</td>\n",
              "    </tr>\n",
              "    <tr>\n",
              "      <th>4</th>\n",
              "      <td>ham</td>\n",
              "      <td>Nah I don't think he goes to usf, he lives aro...</td>\n",
              "    </tr>\n",
              "    <tr>\n",
              "      <th>...</th>\n",
              "      <td>...</td>\n",
              "      <td>...</td>\n",
              "    </tr>\n",
              "    <tr>\n",
              "      <th>5567</th>\n",
              "      <td>spam</td>\n",
              "      <td>This is the 2nd time we have tried 2 contact u...</td>\n",
              "    </tr>\n",
              "    <tr>\n",
              "      <th>5568</th>\n",
              "      <td>ham</td>\n",
              "      <td>Will ü b going to esplanade fr home?</td>\n",
              "    </tr>\n",
              "    <tr>\n",
              "      <th>5569</th>\n",
              "      <td>ham</td>\n",
              "      <td>Pity, * was in mood for that. So...any other s...</td>\n",
              "    </tr>\n",
              "    <tr>\n",
              "      <th>5570</th>\n",
              "      <td>ham</td>\n",
              "      <td>The guy did some bitching but I acted like i'd...</td>\n",
              "    </tr>\n",
              "    <tr>\n",
              "      <th>5571</th>\n",
              "      <td>ham</td>\n",
              "      <td>Rofl. Its true to its name</td>\n",
              "    </tr>\n",
              "  </tbody>\n",
              "</table>\n",
              "<p>5572 rows × 2 columns</p>\n",
              "</div>\n",
              "      <button class=\"colab-df-convert\" onclick=\"convertToInteractive('df-01c4bd9a-4f84-43cd-b0aa-921874722be0')\"\n",
              "              title=\"Convert this dataframe to an interactive table.\"\n",
              "              style=\"display:none;\">\n",
              "        \n",
              "  <svg xmlns=\"http://www.w3.org/2000/svg\" height=\"24px\"viewBox=\"0 0 24 24\"\n",
              "       width=\"24px\">\n",
              "    <path d=\"M0 0h24v24H0V0z\" fill=\"none\"/>\n",
              "    <path d=\"M18.56 5.44l.94 2.06.94-2.06 2.06-.94-2.06-.94-.94-2.06-.94 2.06-2.06.94zm-11 1L8.5 8.5l.94-2.06 2.06-.94-2.06-.94L8.5 2.5l-.94 2.06-2.06.94zm10 10l.94 2.06.94-2.06 2.06-.94-2.06-.94-.94-2.06-.94 2.06-2.06.94z\"/><path d=\"M17.41 7.96l-1.37-1.37c-.4-.4-.92-.59-1.43-.59-.52 0-1.04.2-1.43.59L10.3 9.45l-7.72 7.72c-.78.78-.78 2.05 0 2.83L4 21.41c.39.39.9.59 1.41.59.51 0 1.02-.2 1.41-.59l7.78-7.78 2.81-2.81c.8-.78.8-2.07 0-2.86zM5.41 20L4 18.59l7.72-7.72 1.47 1.35L5.41 20z\"/>\n",
              "  </svg>\n",
              "      </button>\n",
              "      \n",
              "  <style>\n",
              "    .colab-df-container {\n",
              "      display:flex;\n",
              "      flex-wrap:wrap;\n",
              "      gap: 12px;\n",
              "    }\n",
              "\n",
              "    .colab-df-convert {\n",
              "      background-color: #E8F0FE;\n",
              "      border: none;\n",
              "      border-radius: 50%;\n",
              "      cursor: pointer;\n",
              "      display: none;\n",
              "      fill: #1967D2;\n",
              "      height: 32px;\n",
              "      padding: 0 0 0 0;\n",
              "      width: 32px;\n",
              "    }\n",
              "\n",
              "    .colab-df-convert:hover {\n",
              "      background-color: #E2EBFA;\n",
              "      box-shadow: 0px 1px 2px rgba(60, 64, 67, 0.3), 0px 1px 3px 1px rgba(60, 64, 67, 0.15);\n",
              "      fill: #174EA6;\n",
              "    }\n",
              "\n",
              "    [theme=dark] .colab-df-convert {\n",
              "      background-color: #3B4455;\n",
              "      fill: #D2E3FC;\n",
              "    }\n",
              "\n",
              "    [theme=dark] .colab-df-convert:hover {\n",
              "      background-color: #434B5C;\n",
              "      box-shadow: 0px 1px 3px 1px rgba(0, 0, 0, 0.15);\n",
              "      filter: drop-shadow(0px 1px 2px rgba(0, 0, 0, 0.3));\n",
              "      fill: #FFFFFF;\n",
              "    }\n",
              "  </style>\n",
              "\n",
              "      <script>\n",
              "        const buttonEl =\n",
              "          document.querySelector('#df-01c4bd9a-4f84-43cd-b0aa-921874722be0 button.colab-df-convert');\n",
              "        buttonEl.style.display =\n",
              "          google.colab.kernel.accessAllowed ? 'block' : 'none';\n",
              "\n",
              "        async function convertToInteractive(key) {\n",
              "          const element = document.querySelector('#df-01c4bd9a-4f84-43cd-b0aa-921874722be0');\n",
              "          const dataTable =\n",
              "            await google.colab.kernel.invokeFunction('convertToInteractive',\n",
              "                                                     [key], {});\n",
              "          if (!dataTable) return;\n",
              "\n",
              "          const docLinkHtml = 'Like what you see? Visit the ' +\n",
              "            '<a target=\"_blank\" href=https://colab.research.google.com/notebooks/data_table.ipynb>data table notebook</a>'\n",
              "            + ' to learn more about interactive tables.';\n",
              "          element.innerHTML = '';\n",
              "          dataTable['output_type'] = 'display_data';\n",
              "          await google.colab.output.renderOutput(dataTable, element);\n",
              "          const docLink = document.createElement('div');\n",
              "          docLink.innerHTML = docLinkHtml;\n",
              "          element.appendChild(docLink);\n",
              "        }\n",
              "      </script>\n",
              "    </div>\n",
              "  </div>\n",
              "  "
            ]
          },
          "metadata": {},
          "execution_count": 2
        }
      ]
    },
    {
      "cell_type": "code",
      "source": [
        "messages_df.info()"
      ],
      "metadata": {
        "colab": {
          "base_uri": "https://localhost:8080/"
        },
        "id": "f0TlUXoicmsY",
        "outputId": "1614ff57-242a-40c1-9947-70f41bf4ef43"
      },
      "execution_count": null,
      "outputs": [
        {
          "output_type": "stream",
          "name": "stdout",
          "text": [
            "<class 'pandas.core.frame.DataFrame'>\n",
            "RangeIndex: 5572 entries, 0 to 5571\n",
            "Data columns (total 2 columns):\n",
            " #   Column   Non-Null Count  Dtype \n",
            "---  ------   --------------  ----- \n",
            " 0   label    5572 non-null   object\n",
            " 1   message  5572 non-null   object\n",
            "dtypes: object(2)\n",
            "memory usage: 87.2+ KB\n"
          ]
        }
      ]
    },
    {
      "cell_type": "code",
      "source": [
        "messages_df.label.value_counts()"
      ],
      "metadata": {
        "colab": {
          "base_uri": "https://localhost:8080/"
        },
        "id": "0TtgPFffb2LS",
        "outputId": "4879d43b-d688-48ed-c535-325a0f376a1f"
      },
      "execution_count": null,
      "outputs": [
        {
          "output_type": "execute_result",
          "data": {
            "text/plain": [
              "ham     4825\n",
              "spam     747\n",
              "Name: label, dtype: int64"
            ]
          },
          "metadata": {},
          "execution_count": 4
        }
      ]
    },
    {
      "cell_type": "markdown",
      "source": [
        "## Data Processing"
      ],
      "metadata": {
        "id": "Ps5h8TQ7mijk"
      }
    },
    {
      "cell_type": "code",
      "source": [
        "import nltk\n",
        "from nltk.stem import WordNetLemmatizer\n",
        "from nltk.corpus import stopwords\n",
        "import re"
      ],
      "metadata": {
        "id": "I3cDcFkHnLwX"
      },
      "execution_count": null,
      "outputs": []
    },
    {
      "cell_type": "code",
      "source": [
        "wordnet=WordNetLemmatizer()\n",
        "wordnet"
      ],
      "metadata": {
        "colab": {
          "base_uri": "https://localhost:8080/"
        },
        "id": "-EwL0UA6nWsG",
        "outputId": "7dfa79a9-7237-4c36-8b49-be86e3562603"
      },
      "execution_count": null,
      "outputs": [
        {
          "output_type": "execute_result",
          "data": {
            "text/plain": [
              "<WordNetLemmatizer>"
            ]
          },
          "metadata": {},
          "execution_count": 6
        }
      ]
    },
    {
      "cell_type": "code",
      "source": [
        "nltk.download('punkt')# this for necessary for tokenization process\n",
        "nltk.download('stopwords')\n",
        "nltk.download('wordnet')"
      ],
      "metadata": {
        "colab": {
          "base_uri": "https://localhost:8080/"
        },
        "id": "FR0c_FCPnYTy",
        "outputId": "e61885cb-969c-45d2-d0ec-5670177e6805"
      },
      "execution_count": null,
      "outputs": [
        {
          "output_type": "stream",
          "name": "stderr",
          "text": [
            "[nltk_data] Downloading package punkt to /root/nltk_data...\n",
            "[nltk_data]   Unzipping tokenizers/punkt.zip.\n",
            "[nltk_data] Downloading package stopwords to /root/nltk_data...\n",
            "[nltk_data]   Unzipping corpora/stopwords.zip.\n",
            "[nltk_data] Downloading package wordnet to /root/nltk_data...\n"
          ]
        },
        {
          "output_type": "execute_result",
          "data": {
            "text/plain": [
              "True"
            ]
          },
          "metadata": {},
          "execution_count": 7
        }
      ]
    },
    {
      "cell_type": "code",
      "source": [
        "corpus=[]\n",
        "for i in range(len(messages_df)):\n",
        "    review = re.sub('[^a-zA-Z]', ' ', messages_df['message'][i]).lower().split()\n",
        "    review = ' '.join([wordnet.lemmatize(word) for word in review if not word in set(stopwords.words('english'))])\n",
        "    corpus.append(review)"
      ],
      "metadata": {
        "id": "UNLVuIXmnkfR"
      },
      "execution_count": null,
      "outputs": []
    },
    {
      "cell_type": "code",
      "source": [
        "corpus"
      ],
      "metadata": {
        "colab": {
          "base_uri": "https://localhost:8080/"
        },
        "id": "-A4wBrq2nkcP",
        "outputId": "e9c6a01d-38e9-4251-eda6-083d22f7e3c3"
      },
      "execution_count": null,
      "outputs": [
        {
          "output_type": "execute_result",
          "data": {
            "text/plain": [
              "['go jurong point crazy available bugis n great world la e buffet cine got amore wat',\n",
              " 'ok lar joking wif u oni',\n",
              " 'free entry wkly comp win fa cup final tkts st may text fa receive entry question std txt rate c apply',\n",
              " 'u dun say early hor u c already say',\n",
              " 'nah think go usf life around though',\n",
              " 'freemsg hey darling week word back like fun still tb ok xxx std chgs send rcv',\n",
              " 'even brother like speak treat like aid patent',\n",
              " 'per request melle melle oru minnaminunginte nurungu vettam set callertune caller press copy friend callertune',\n",
              " 'winner valued network customer selected receivea prize reward claim call claim code kl valid hour',\n",
              " 'mobile month u r entitled update latest colour mobile camera free call mobile update co free',\n",
              " 'gonna home soon want talk stuff anymore tonight k cried enough today',\n",
              " 'six chance win cash pound txt csh send cost p day day tsandcs apply reply hl info',\n",
              " 'urgent week free membership prize jackpot txt word claim c www dbuk net lccltd pobox ldnw rw',\n",
              " 'searching right word thank breather promise wont take help granted fulfil promise wonderful blessing time',\n",
              " 'date sunday',\n",
              " 'xxxmobilemovieclub use credit click wap link next txt message click http wap xxxmobilemovieclub com n qjkgighjjgcbl',\n",
              " 'oh k watching',\n",
              " 'eh u remember spell name yes v naughty make v wet',\n",
              " 'fine way u feel way gota b',\n",
              " 'england v macedonia dont miss goal team news txt ur national team eg england try wale scotland txt poboxox w wq',\n",
              " 'seriously spell name',\n",
              " 'going try month ha ha joking',\n",
              " 'pay first lar da stock comin',\n",
              " 'aft finish lunch go str lor ard smth lor u finish ur lunch already',\n",
              " 'ffffffffff alright way meet sooner',\n",
              " 'forced eat slice really hungry tho suck mark getting worried know sick turn pizza lol',\n",
              " 'lol always convincing',\n",
              " 'catch bus frying egg make tea eating mom left dinner feel love',\n",
              " 'back amp packing car let know room',\n",
              " 'ahhh work vaguely remember feel like lol',\n",
              " 'wait still clear sure sarcastic x want live u',\n",
              " 'yeah got v apologetic n fallen actin like spoilt child got caught till go badly cheer',\n",
              " 'k tell anything',\n",
              " 'fear fainting housework quick cuppa',\n",
              " 'thanks subscription ringtone uk mobile charged month please confirm replying yes reply charged',\n",
              " 'yup ok go home look timing msg xuhui going learn nd may lesson',\n",
              " 'oops let know roommate done',\n",
              " 'see letter b car',\n",
              " 'anything lor u decide',\n",
              " 'hello saturday go texting see decided anything tomo trying invite anything',\n",
              " 'pls go ahead watt wanted sure great weekend abiola',\n",
              " 'forget tell want need crave love sweet arabian steed mmmmmm yummy',\n",
              " 'rodger burn msg tried call reply sm free nokia mobile free camcorder please call delivery tomorrow',\n",
              " 'seeing',\n",
              " 'great hope like man well endowed lt gt inch',\n",
              " 'call message missed call',\n",
              " 'get hep b immunisation nigeria',\n",
              " 'fair enough anything going',\n",
              " 'yeah hopefully tyler could maybe ask around bit',\n",
              " 'u know stubborn even want go hospital kept telling mark weak sucker hospital weak sucker',\n",
              " 'thinked first time saw class',\n",
              " 'gram usually run like lt gt half eighth smarter though get almost whole second gram lt gt',\n",
              " 'k fyi x ride early tomorrow morning crashing place tonight',\n",
              " 'wow never realized embarassed accomodations thought liked since best could always seemed happy cave sorry give sorry offered sorry room embarassing',\n",
              " 'sm ac sptv new jersey devil detroit red wing play ice hockey correct incorrect end reply end sptv',\n",
              " 'know mallika sherawat yesterday find lt url gt',\n",
              " 'congrats year special cinema pas call c suprman v matrix starwars etc free bx ip pm dont miss',\n",
              " 'sorry call later meeting',\n",
              " 'tell reached',\n",
              " 'yes gauti sehwag odi series',\n",
              " 'gonna pick burger way home even move pain killing',\n",
              " 'ha ha ha good joke girl situation seeker',\n",
              " 'part checking iq',\n",
              " 'sorry roommate took forever ok come',\n",
              " 'ok lar double check wif da hair dresser already said wun cut v short said cut look nice',\n",
              " 'valued customer pleased advise following recent review mob awarded bonus prize call',\n",
              " 'today song dedicated day song u dedicate send ur valuable frnds first rply',\n",
              " 'urgent ur awarded complimentary trip eurodisinc trav aco entry claim txt dis morefrmmob shracomorsglsuplt l aj',\n",
              " 'hear new divorce barbie come ken stuff',\n",
              " 'plane give month end',\n",
              " 'wah lucky man save money hee',\n",
              " 'finished class',\n",
              " 'hi babe im home wanna something xx',\n",
              " 'k k performed',\n",
              " 'u call',\n",
              " 'waiting machan call free',\n",
              " 'thats cool gentleman treat dignity respect',\n",
              " 'like people much shy pa',\n",
              " 'operate lt gt',\n",
              " 'still looking job much ta earn',\n",
              " 'sorry call later',\n",
              " 'k call ah',\n",
              " 'ok way home hi hi',\n",
              " 'place man',\n",
              " 'yup next stop',\n",
              " 'call later network urgnt sm',\n",
              " 'real u getting yo need ticket one jacket done already used multis',\n",
              " 'yes started send request make pain came back back bed double coin factory gotta cash nitros',\n",
              " 'really still tonight babe',\n",
              " 'ela kano il download come wen ur free',\n",
              " 'yeah stand close tho catch something',\n",
              " 'sorry pain ok meet another night spent late afternoon casualty mean done stuff moro includes time sheet sorry',\n",
              " 'smile pleasure smile pain smile trouble pours like rain smile sum hurt u smile becoz someone still love see u smiling',\n",
              " 'please call customer service representative pm guaranteed cash prize',\n",
              " 'havent planning buy later check already lido got show e afternoon u finish work already',\n",
              " 'free ringtone waiting collected simply text password mix verify get usher britney fml po box mk h ppw',\n",
              " 'watching telugu movie wat abt u',\n",
              " 'see finish load loan pay',\n",
              " 'hi wk ok hols yes bit run forgot hairdresser appointment four need get home n shower beforehand cause prob u',\n",
              " 'see cup coffee animation',\n",
              " 'please text anymore nothing else say',\n",
              " 'okay name ur price long legal wen pick u ave x am xx',\n",
              " 'still looking car buy gone driving test yet',\n",
              " 'per request melle melle oru minnaminunginte nurungu vettam set callertune caller press copy friend callertune',\n",
              " 'wow right mean guess gave boston men changed search location nyc something changed cuz signin page still say boston',\n",
              " 'umma life vava umma love lot dear',\n",
              " 'thanks lot wish birthday thanks making birthday truly memorable',\n",
              " 'aight hit get cash',\n",
              " 'would ip address test considering computer minecraft server',\n",
              " 'know grumpy old people mom like better lying always one play joke',\n",
              " 'dont worry guess busy',\n",
              " 'plural noun research',\n",
              " 'going dinner msg',\n",
              " 'ok wif co like try new thing scared u dun like mah co u said loud',\n",
              " 'gent trying contact last weekend draw show prize guaranteed call claim code k valid hr ppm',\n",
              " 'wa ur openin sentence formal anyway fine juz tt eatin much n puttin weight haha anythin special happened',\n",
              " 'entered cabin pa said happy b day bos felt special askd lunch lunch invited apartment went',\n",
              " 'winner u specially selected receive holiday flight inc speak live operator claim p min',\n",
              " 'goodo yes must speak friday egg potato ratio tortilla needed',\n",
              " 'hmm uncle informed paying school directly pls buy food',\n",
              " 'private account statement show unredeemed bonus point claim call identifier code expires',\n",
              " 'urgent mobile awarded bonus caller prize final try contact u call landline box wr c ppm',\n",
              " 'new address apple pair malarky',\n",
              " 'today voda number ending selected receive award match please call quoting claim code standard rate app',\n",
              " 'going sao mu today done',\n",
              " 'predict wat time finish buying',\n",
              " 'good stuff',\n",
              " 'know yetunde sent money yet sent text bother sending dont involve anything imposed anything first place apologise',\n",
              " 'room',\n",
              " 'hey girl r u hope u r well del r bak long time c give call sum time lucyxx',\n",
              " 'k k much cost',\n",
              " 'home',\n",
              " 'dear call tmorrow pls accomodate',\n",
              " 'first answer question',\n",
              " 'sunshine quiz wkly q win top sony dvd player u know country algarve txt ansr sp tyrone',\n",
              " 'want get laid tonight want real dogging location sent direct ur mob join uk largest dogging network bt txting gravel nt ec p msg p',\n",
              " 'haf msn yijue hotmail com',\n",
              " 'call meet',\n",
              " 'check room befor activity',\n",
              " 'rcv msg chat svc free hardcore service text go u get nothing u must age verify yr network try',\n",
              " 'got c lazy type forgot lect saw pouch like v nice',\n",
              " 'k text way',\n",
              " 'sir waiting mail',\n",
              " 'swt thought nver get tired little thing lovable person coz somtimes little thing occupy biggest part heart gud ni',\n",
              " 'know pls open back',\n",
              " 'yes see ya dot',\n",
              " 'whats staff name taking class u',\n",
              " 'freemsg replied text randy sexy female live local luv hear u netcollex ltd p per msg reply stop end',\n",
              " 'ummma call check life begin qatar pls pray hard',\n",
              " 'k deleted contact',\n",
              " 'sindu got job birla soft',\n",
              " 'wine flowing nevering',\n",
              " 'yup thk cine better co need go plaza mah',\n",
              " 'ok ur typical reply',\n",
              " 'per request melle melle oru minnaminunginte nurungu vettam set callertune caller press copy friend callertune',\n",
              " 'everywhere dirt floor window even shirt sometimes open mouth come flowing dream world without half chore time joy lot tv show see guess like thing must exist like rain hail mist time done become one',\n",
              " 'aaooooright work',\n",
              " 'leaving house',\n",
              " 'hello love get interview today happy good boy think missing',\n",
              " 'customer service annoncement new year delivery waiting please call arrange delivery',\n",
              " 'winner u specially selected receive cash holiday flight inc speak live operator claim',\n",
              " 'keep safe need miss already envy everyone see real life',\n",
              " 'new car house parent new job hand',\n",
              " 'love excited day spend make happy',\n",
              " 'pls stop bootydelious f inviting friend reply yes see www sm ac u bootydelious stop send stop frnd',\n",
              " 'bangbabes ur order way u receive service msg download ur content u goto wap bangb tv ur mobile internet service menu',\n",
              " 'place ur point e culture module already',\n",
              " 'urgent trying contact last weekend draw show prize guaranteed call claim code valid hr',\n",
              " 'hi frnd best way avoid missunderstding wit beloved one',\n",
              " 'great escape fancy bridge need lager see tomo',\n",
              " 'yes completely form clark also utter waste',\n",
              " 'sir need axis bank account bank address',\n",
              " 'hmmm thk sure got time hop ard ya go free abt muz call u discus liao',\n",
              " 'time coming later',\n",
              " 'bloody hell cant believe forgot surname mr ill give u clue spanish begin',\n",
              " 'well gonna finish bath good fine night',\n",
              " 'let know got money carlos make call',\n",
              " 'u still going mall',\n",
              " 'turn friend staying whole show back til lt gt feel free go ahead smoke lt gt worth',\n",
              " 'text doesnt reply let know log',\n",
              " 'hi spoke maneesha v like know satisfied experience reply toll free yes',\n",
              " 'lifted hope offer money need especially end month approach hurt studying anyways gr weekend',\n",
              " 'lol u trust',\n",
              " 'ok gentleman treat dignity respect',\n",
              " 'guy close',\n",
              " 'going nothing great bye',\n",
              " 'hello handsome finding job lazy working towards getting back net mummy boytoy miss',\n",
              " 'haha awesome minute',\n",
              " 'please call customer service representative freephone pm guaranteed cash prize',\n",
              " 'got xmas radio time get',\n",
              " 'jus reached home go bathe first si using net tell u finish k',\n",
              " 'unique enough find th august www areyouunique co uk',\n",
              " 'sorry joined league people dont keep touch mean great deal friend time even great personal cost great week',\n",
              " 'hi finally completed course',\n",
              " 'stop however suggest stay someone able give or every stool',\n",
              " 'hope settled new school year wishin gr day',\n",
              " 'gud mrng dear hav nice day',\n",
              " 'u got person story',\n",
              " 'hamster dead hey tmr meet pm orchard mrt',\n",
              " 'hi kate evening hope see tomorrow bit bloody babyjontet txt back u xxx',\n",
              " 'found enc lt gt',\n",
              " 'sent lt gt buck',\n",
              " 'hello darlin ive finished college txt u finish u love kate xxx',\n",
              " 'account refilled successfully inr lt decimal gt keralacircle prepaid account balance r lt decimal gt transaction id kr lt gt',\n",
              " 'goodmorning sleeping ga',\n",
              " 'u call alter ok',\n",
              " 'say like dat dun buy ericsson oso cannot oredi lar',\n",
              " 'entered cabin pa said happy b day bos felt special askd lunch lunch invited apartment went',\n",
              " 'aight yo dat straight dogg',\n",
              " 'please give u connection today lt decimal gt refund bill',\n",
              " 'shoot big load get ready',\n",
              " 'bruv hope great break rewarding semester',\n",
              " 'home always chat',\n",
              " 'k k good study well',\n",
              " 'yup noe leh',\n",
              " 'sound great home',\n",
              " 'finally match heading towards draw prediction',\n",
              " 'tired slept well past night',\n",
              " 'easy ah sen got selected mean good',\n",
              " 'take exam march',\n",
              " 'yeah think use gt atm register sure anyway help let know sure ready',\n",
              " 'ok prob take ur time',\n",
              " 'o called ubandu run without installing hard disk use o copy important file system give repair shop',\n",
              " 'sorry call later',\n",
              " 'u say leh course nothing happen lar say v romantic jus bit lor thk e nite scenery nice leh',\n",
              " 'new mobile must go txt nokia collect today www tc biz optout gbp mtmsg',\n",
              " 'would really appreciate call need someone talk',\n",
              " 'u meet ur dream partner soon ur career flyng start find free txt horo followed ur star sign e g horo aries',\n",
              " 'hey company elama po mudyadhu',\n",
              " 'life strict teacher bcoz teacher teach lesson amp conduct exam life first conduct exam amp teach lesson happy morning',\n",
              " 'dear good morning',\n",
              " 'get gandhipuram walk cross cut road right side lt gt street road turn first right',\n",
              " 'dear going rubber place',\n",
              " 'sorry battery died yeah',\n",
              " 'yes tv always available work place',\n",
              " 'text meet someone sexy today u find date even flirt u join p reply name age eg sam msg recd thirtyeight penny',\n",
              " 'printed oh lt gt come upstairs',\n",
              " 'ill little closer like bus stop street',\n",
              " 'wil reach',\n",
              " 'new theory argument win situation loses person dont argue ur friend kick amp say always correct',\n",
              " 'u secret admirer looking make contact u find r reveal think ur special call',\n",
              " 'tomarrow final hearing laptop case cant',\n",
              " 'pleassssssseeeeee tel v avent done sportsx',\n",
              " 'okay shining meant signing sound better',\n",
              " 'although told u dat baig face watch really like e watch u gave co fr u thanx everything dat u done today touched',\n",
              " 'u remember old commercial',\n",
              " 'late said website dont slipper',\n",
              " 'asked call ok',\n",
              " 'kallis wont bat nd inning',\n",
              " 'didnt work oh ok goodnight fix ready time wake dearly missed good night sleep',\n",
              " 'congratulation ur awarded cd voucher gift guaranteed free entry wkly draw txt music tncs www ldew com win ppmx age',\n",
              " 'ranjith cal drpd deeraj deepak min hold',\n",
              " 'wen ur lovable bcums angry wid u dnt take seriously coz angry childish n true way showing deep affection care n luv kettoda manda nice day da',\n",
              " '',\n",
              " 'ups day also shipping company take wks way usps take week get lag may bribe nipost get stuff',\n",
              " 'back lemme know ready',\n",
              " 'necessarily expect done get back though headin',\n",
              " 'mmm yummy babe nice jolt suzy',\n",
              " 'lover need',\n",
              " 'tried contact reply offer video handset anytime network min unlimited text camcorder reply call',\n",
              " 'parked next mini coming today think',\n",
              " 'yup',\n",
              " 'anyway going shopping co si done yet dun disturb u liao',\n",
              " 'luton ring ur around h',\n",
              " 'hey really horny want chat see naked text hot text charged pm unsubscribe text stop',\n",
              " 'dint come u',\n",
              " 'wana plan trip sometme',\n",
              " 'sure yet still trying get hold',\n",
              " 'ur ringtone service changed free credit go club mobile com choose content stop txt club stop p wk club po box mk wt',\n",
              " 'evo download flash jealous',\n",
              " 'ringtone club get uk single chart mobile week choose top quality ringtone message free charge',\n",
              " 'come mu sorting narcotic situation',\n",
              " 'night ended another day morning come special way may smile like sunny ray leaf worry blue blue bay',\n",
              " 'hmv bonus special pound genuine hmv voucher answer easy question play send hmv info www percent real com',\n",
              " 'usf guess might well take car',\n",
              " 'objection bf coming',\n",
              " 'thanx',\n",
              " 'tell rob mack gf theater',\n",
              " 'awesome see bit',\n",
              " 'sent type food like',\n",
              " 'done handed celebration full swing yet',\n",
              " 'got called tool',\n",
              " 'wen u miss someone person definitely special u person special miss keep touch gdeve',\n",
              " 'ok asked money far',\n",
              " 'okie',\n",
              " 'yeah think usual guy still passed last night get ahold anybody let know throw',\n",
              " 'k might come tonight class let early',\n",
              " 'ok',\n",
              " 'hi baby im cruisin girl friend r u give call hour home thats alright fone fone love jenny xxx',\n",
              " 'life mean lot love life love people life world call friend call world ge',\n",
              " 'dear shall mail tonite busy street shall update tonite thing looking ok varunnathu edukkukayee raksha ollu good one real sense',\n",
              " 'hey told name gautham ah',\n",
              " 'haf u found feel stupid da v cam working',\n",
              " 'oops got bit',\n",
              " 'much buzy',\n",
              " 'accidentally deleted message resend please',\n",
              " 'mobile customer may claim free camera phone upgrade pay go sim card loyalty call offer end thfeb c apply',\n",
              " 'unless situation go gurl would appropriate',\n",
              " 'hurt tease make cry end life die plz keep one rose grave say stupid miss u nice day bslvyl',\n",
              " 'cant pick phone right pls send message',\n",
              " 'need coffee run tomo believe time week already',\n",
              " 'awesome remember last time got somebody high first time diesel v',\n",
              " 'shit really shocking scary cant imagine second def night u think somewhere could crash night save taxi',\n",
              " 'oh way food fridge want go meal tonight',\n",
              " 'womdarfull actor',\n",
              " 'sm ac blind date u rodds aberdeen united kingdom check http img sm ac w icmb cktz r blind date send hide',\n",
              " 'yup remb think book',\n",
              " 'jos ask u wana meet',\n",
              " 'lol yes friendship hanging thread cause u buy stuff',\n",
              " 'themob check newest selection content game tone gossip babe sport keep mobile fit funky text wap',\n",
              " 'garage key bookshelf',\n",
              " 'today accept day u accept brother sister lover dear best clos lvblefrnd jstfrnd cutefrnd lifpartnr belovd swtheart bstfrnd rply mean enemy',\n",
              " 'think ur smart win week weekly quiz text play c winnersclub po box uz gbp week',\n",
              " 'say give call friend got money definitely buying end week',\n",
              " 'hi way u day normal way real ur unique hope know u rest mylife hope u find wot lost',\n",
              " 'made day great day',\n",
              " 'k k advance happy pongal',\n",
              " 'hmmm guess go kb n power yoga haha dunno tahan power yoga anot thk got lo oso forgot liao',\n",
              " 'really dude friend afraid',\n",
              " 'december mobile mths entitled update latest colour camera mobile free call mobile update co free',\n",
              " 'coffee cake guess',\n",
              " 'merry christmas babe love ya kiss',\n",
              " 'hey dont go watch x men lunch haha',\n",
              " 'cud u tell ppl im gona b bit l co bus hav gon past co full im still waitin pete x',\n",
              " 'would great guild could meet bristol road somewhere get touch weekend plan take flight good week',\n",
              " 'problem',\n",
              " 'call message missed call',\n",
              " 'hi da today class',\n",
              " 'say good sign well know track record reading woman',\n",
              " 'cool text parked',\n",
              " 'reading text sent meant joke read light',\n",
              " 'k k apo k good movie',\n",
              " 'maybe could get book tomo return immediately something',\n",
              " 'call germany penny per minute call fixed line via access number prepayment direct access',\n",
              " 'chance might evaporated soon violated privacy stealing phone number employer paperwork cool please contact report supervisor',\n",
              " 'valentine day special win quiz take partner trip lifetime send go p msg rcvd custcare',\n",
              " 'ta daaaaa home babe still',\n",
              " 'cool come havent wined dined',\n",
              " 'sleeping surfing',\n",
              " 'sorry call later',\n",
              " 'u calling right call hand phone',\n",
              " 'ok great thanx lot',\n",
              " 'take post come must text happy reading one wiv hello caroline end favourite bless',\n",
              " 'u hiding stranger',\n",
              " 'interested like',\n",
              " 'sister cleared two round birla soft yesterday',\n",
              " 'gudnite tc practice going',\n",
              " 'dis yijue jus saw ur mail case huiming havent sent u num dis num',\n",
              " 'one small prestige problem',\n",
              " 'fancy shag interested sextextuk com txt xxuk suzy txts cost per msg tncs website x',\n",
              " 'checking really miss seeing jeremiah great month',\n",
              " 'nah help never iphone',\n",
              " 'car hour half going apeshit',\n",
              " 'today sorry day ever angry ever misbehaved hurt plz plz slap urself bcoz ur fault basically good',\n",
              " 'yo guy ever figure much need alcohol jay trying figure much safely spend weed',\n",
              " 'lt gt ish minute minute ago wtf',\n",
              " 'thank calling forgot say happy onam sirji fine remembered met insurance person meet qatar insha allah rakhesh ex tata aig joined tissco tayseer',\n",
              " 'congratulation ur awarded cd voucher gift guaranteed free entry wkly draw txt music tncs www ldew com win ppmx age',\n",
              " 'ur cash balance currently pound maximize ur cash send cash p msg cc hg suite land row w j hl',\n",
              " 'actor work work evening sleep late since unemployed moment always sleep late unemployed every day saturday',\n",
              " 'hello got st andrew boy long way cold keep posted',\n",
              " 'ha ha cool cool chikku chikku db',\n",
              " 'oh ok prob',\n",
              " 'check audrey status right',\n",
              " 'busy trying finish new year looking forward finally meeting',\n",
              " 'good afternoon sunshine dawn day refreshed happy alive breathe air smile think love always',\n",
              " 'well know z take care worry',\n",
              " 'update xmas offer latest motorola sonyericsson nokia free bluetooth double min txt orange call mobileupd call optout f q',\n",
              " 'discount code rp stop message reply stop www regalportfolio co uk customer service',\n",
              " 'wat uniform get',\n",
              " 'cool text ready',\n",
              " 'hello boytoy geeee miss already woke wish bed cuddling love',\n",
              " 'spoil bed well',\n",
              " 'going bath msg next lt gt min',\n",
              " 'cant keep talking people sure pay agree price pls tell want really buy much willing pay',\n",
              " 'thanks ringtone order reference charged gbp per week unsubscribe anytime calling customer service',\n",
              " 'say happen',\n",
              " 'could seen recognise face',\n",
              " 'well lot thing happening lindsay new year sigh bar ptbo blue heron something going',\n",
              " 'keep payasam rinu brings',\n",
              " 'taught ranjith sir called sm like becaus he verifying project prabu told today pa dont mistake',\n",
              " 'guess worried must know way body repair quite sure worry take slow first test guide ovulation relax nothing said reason worry keep followin',\n",
              " 'yeah sure give couple minute track wallet',\n",
              " 'hey leave big deal take care',\n",
              " 'hey late ah meet',\n",
              " 'double min txts month free bluetooth orange available sony nokia motorola phone call mobileupd call optout n dx',\n",
              " 'took mr owl lick',\n",
              " 'customer place call',\n",
              " 'mm time dont like fun',\n",
              " 'mths half price orange line rental latest camera phone free phone mths call mobilesdirect free update stoptxt',\n",
              " 'yup lunch buffet u eat already',\n",
              " 'huh late fr dinner',\n",
              " 'hey sat going intro pilate kickboxing',\n",
              " 'morning ok',\n",
              " 'yes think office lap room think thats last day didnt shut',\n",
              " 'pick bout ish time going',\n",
              " 'performance award calculated every two month current one month period',\n",
              " 'actually sleeping still might u call back text gr rock si send u text wen wake',\n",
              " 'always putting business put picture as facebook one open people ever met would think picture room would hurt make feel violated',\n",
              " 'good evening sir al salam wahleykkum sharing happy news grace god got offer tayseer tissco joined hope fine inshah allah meet sometime rakhesh visitor india',\n",
              " 'hmmm k want change field quickly da wanna get system administrator network administrator',\n",
              " 'free ringtone text first poly text get true tone help st free tone x pw e nd txt stop',\n",
              " 'dear chechi talk',\n",
              " 'hair cream shipped',\n",
              " 'none happening til get though',\n",
              " 'yep great loxahatchee xmas tree burning lt gt start hour',\n",
              " 'haha get used driving usf man know lot stoner',\n",
              " 'well slightly disastrous class pm fav darling hope day ok coffee wld good stay late tomorrow time place always',\n",
              " 'hello good week fancy drink something later',\n",
              " 'headin towards busetop',\n",
              " 'message text missing sender name missing number missing sent date missing missing u lot thats everything missing sent via fullonsms com',\n",
              " 'come room point iron plan weekend',\n",
              " 'co want thing',\n",
              " 'okies go yan jiu skip ard oso go cine den go mrt one blah blah blah',\n",
              " 'bring home wendy',\n",
              " 'dating service cal l box sk ch',\n",
              " 'whatsup dont u want sleep',\n",
              " 'alright new goal',\n",
              " 'free entry weekly competition text word win c www txttowin co uk',\n",
              " 'alright head minute text meet',\n",
              " 'send logo ur lover name joined heart txt love name name mobno eg love adam eve yahoo pobox w wq txtno ad p',\n",
              " 'yes last week taking live call',\n",
              " 'someone contacted dating service entered phone fancy find call landline pobox n tf p',\n",
              " 'siva hostel aha',\n",
              " 'urgent mobile number awarded prize guaranteed call land line claim valid hr',\n",
              " 'send ur friend receive something ur voice speaking expression childish naughty sentiment rowdy ful attitude romantic shy attractive funny lt gt irritating lt gt lovable reply',\n",
              " 'ok ok guess',\n",
              " 'aathi dear',\n",
              " 'pain urination thing else',\n",
              " 'esplanade mind giving lift co got car today',\n",
              " 'wnt buy bmw car urgently vry urgent hv shortage lt gt lac source arng dis amt lt gt lac thats prob',\n",
              " 'home watching tv lor',\n",
              " 'usually take fifteen fucking minute respond yes question',\n",
              " 'congrats nokia video camera phone call call cost ppm ave call min vary mobile close post bcm ldn wc n xx',\n",
              " 'booked ticket pongal',\n",
              " 'available like right around hillsborough amp lt gt th',\n",
              " 'message sent askin lt gt dollar shoul pay lt gt lt gt',\n",
              " 'ask g iouri told story like ten time already',\n",
              " 'long applebees fucking take',\n",
              " 'hi hope u get txt journey hasnt gd min late think',\n",
              " 'like love arrange',\n",
              " 'yes really great bhaji told kallis best cricketer sachin world tough get',\n",
              " 'supposed wake gt',\n",
              " 'oic saw tot din c found group liao',\n",
              " 'sorry call later',\n",
              " 'hey hey werethe monkeespeople say monkeyaround howdy gorgeous howu doin foundurself jobyet sausage love jen xxx',\n",
              " 'sorry battery died come getting gram place',\n",
              " 'well done blimey exercise yeah kinda remember wot hmm',\n",
              " 'wont get concentration dear know mind everything',\n",
              " 'lol made plan new year',\n",
              " 'min later k',\n",
              " 'hank lotsly',\n",
              " 'thanks hope good day today',\n",
              " 'k k detail want transfer acc enough',\n",
              " 'ok tell stay yeah tough optimistic thing improve month',\n",
              " 'loan purpose homeowner tenant welcome previously refused still help call free text back help',\n",
              " 'si si think ill go make oreo truffle',\n",
              " 'look amy ure beautiful intelligent woman like u lot know u like like worry',\n",
              " 'hope result consistently intelligent kind start asking practicum link keep ear open best ttyl',\n",
              " 'call cost guess isnt bad miss ya need ya want ya love ya',\n",
              " 'going thru different feeling wavering decision coping individual time heal everything believe',\n",
              " 'u go phone gonna die stay',\n",
              " 'great never better day give even reason thank god',\n",
              " 'upgrdcentre orange customer may claim free camera phone upgrade loyalty call offer end th july c apply opt available',\n",
              " 'sorry call later ok bye',\n",
              " 'ok way railway',\n",
              " 'great princess love giving receiving oral doggy style fave position enjoy making love lt gt time per night',\n",
              " 'put stuff road keep getting slippery',\n",
              " 'going ride bike',\n",
              " 'yup need jus wait e rain stop',\n",
              " 'many company tell language',\n",
              " 'okmail dear dave final notice collect tenerife holiday cash award call landline tc sae box cw wx ppm',\n",
              " 'long since screamed princess',\n",
              " 'nothing meant money enters account bank remove flat rate someone transfered lt gt account lt gt dollar got removed bank differ charge also differ sure trust ja person sending account detail co',\n",
              " 'want get laid tonight want real dogging location sent direct ur mob join uk largest dogging network txting moan nyt ec p msg p',\n",
              " 'nice line said broken heart plz cum time infront wise trust u good',\n",
              " 'ok gonna head usf like fifteen minute',\n",
              " 'love aathi love u lot',\n",
              " 'tension ah machi problem',\n",
              " 'k pick another th done',\n",
              " 'guy getting back g said thinking staying mcr',\n",
              " 'almost see u sec',\n",
              " 'yo carlos friend already asking working weekend',\n",
              " 'watching tv lor',\n",
              " 'thank baby cant wait taste real thing',\n",
              " 'change fb jaykwon thuglyfe falconerf',\n",
              " 'win really side long time',\n",
              " 'free message activate free text message replying message word free term condition visit www com',\n",
              " 'dear reached railway happen',\n",
              " 'depends quality want type sent boye faded glory want ralphs maybe',\n",
              " 'think fixed send test message',\n",
              " 'sorry man account dry would want could trade back half could buy shit credit card',\n",
              " 'congrats year special cinema pas call c suprman v matrix starwars etc free bx ip pm dont miss',\n",
              " 'sorry meeting call later',\n",
              " 'class lt gt reunion',\n",
              " 'free call',\n",
              " 'got meh',\n",
              " 'nope think go monday sorry replied late',\n",
              " 'told accenture confirm true',\n",
              " 'kate jackson rec center ish right',\n",
              " 'dear reache room',\n",
              " 'fighting world easy u either win lose bt fightng close u dificult u lose u lose u win u still lose',\n",
              " 'come',\n",
              " 'check nuerologist',\n",
              " 'lolnice went fish water',\n",
              " 'congratulation week competition draw u prize claim call b c stop sm ppm',\n",
              " 'waiting e car dat bored wat co wait outside got nothing home stuff watch tv wat',\n",
              " 'maybe westshore hyde park village place near house',\n",
              " 'know anthony bringing money school fee pay rent stuff like thats need help friend need',\n",
              " 'significance',\n",
              " 'opinion jada kusruthi lovable silent spl character matured stylish simple pls reply',\n",
              " 'latest g still scrounge ammo want give new ak try',\n",
              " 'prabha soryda realy frm heart sory',\n",
              " 'lol ok forgiven',\n",
              " 'jst change tat',\n",
              " 'guaranteed latest nokia phone gb ipod mp player prize txt word collect ibhltd ldnw h p mtmsgrcvd',\n",
              " 'competition',\n",
              " 'boltblue tone p reply poly mono eg poly cha cha slide yeah slow jamz toxic come stop tone txt',\n",
              " 'credit topped http www bubbletext com renewal pin tgxxrz',\n",
              " 'way transport le problematic sat night way u want ask n join bday feel free need know definite no booking fri',\n",
              " 'usually person unconscious child adult may behave abnormally call',\n",
              " 'ebay might le elsewhere',\n",
              " 'shall come get pickle',\n",
              " 'gonna go get taco',\n",
              " 'rude campus',\n",
              " 'urgent mobile awarded bonus caller prize nd attempt contact call box qu',\n",
              " 'hi b ard christmas enjoy n merry x ma',\n",
              " 'today offer claim ur worth discount voucher text yes savamob member offer mobile c sub unsub reply x',\n",
              " 'yes pretty lady like single',\n",
              " 'recieve tone within next hr term condition please see channel u teletext pg',\n",
              " 'jay say double faggot',\n",
              " 'private account statement show un redeemed point call identifier code expires',\n",
              " 'today sunday sunday holiday work',\n",
              " 'gudnite tc practice going',\n",
              " 'late',\n",
              " 'called hoping l r malaria know miss guy miss ban big pls give love especially great day',\n",
              " 'good afternoon love go day hope maybe got lead job think boytoy send passionate kiss across sea',\n",
              " 'probably gonna see later tonight lt',\n",
              " 'maybe fat finger press button know',\n",
              " 'ummmmmaah many many happy return day dear sweet heart happy birthday dear',\n",
              " 'tirupur da started office call',\n",
              " 'www applausestore com monthlysubscription p msg max month csc web age stop txt stop',\n",
              " 'famous quote develop ability listen anything unconditionally without losing temper self confidence mean married',\n",
              " 'going college pa else ill come self pa',\n",
              " 'oclock mine bash flat plan',\n",
              " 'girl stay bed girl need recovery time id rather pas fun cooped bed',\n",
              " 'special',\n",
              " 'know need get hotel got invitation apologise cali sweet come english bloke weddin',\n",
              " 'sorry took long omw',\n",
              " 'wait lt gt min',\n",
              " 'ok give minute think see btw alibi cutting hair whole time',\n",
              " 'imagine finally get sink bath put pace maybe even eat left also imagine feel cage cock surrounded bath water reminding always owns enjoy cuck',\n",
              " 'hurry weed deficient like three day',\n",
              " 'sure get acknowledgement astoundingly tactless generally faggy demand blood oath fo',\n",
              " 'ok every night take warm bath drink cup milk see work magic still need loose weight know',\n",
              " 'look frying pan case cheap book perhaps silly frying pan likely book',\n",
              " 'well uv cause mutation sunscreen like essential thesedays',\n",
              " 'lunch online',\n",
              " 'know friend already told',\n",
              " 'hi princess thank pic pretty',\n",
              " 'aiyo u always c ex one dunno abt mei reply first time u reply fast lucky workin huh got bao ur sugardad ah gee',\n",
              " 'hi msg office',\n",
              " 'thanx e brownie v nice',\n",
              " 'geeeee love much barely stand',\n",
              " 'gent trying contact last weekend draw show prize guaranteed call claim code k valid hr ppm',\n",
              " 'fuck babe miss already know let send money towards net need want crave',\n",
              " 'ill call u mrw ninish address icky american freek wont stop callin bad jen k eh',\n",
              " 'oooh bed ridden ey thinking',\n",
              " 'anyways go gym whatever love smile hope ok good day babe miss much already',\n",
              " 'love daddy make scream pleasure going slap as dick',\n",
              " 'wot u wanna missy',\n",
              " 'yar lor wait mum finish sch lunch lor whole morning stay home clean room room quite clean hee',\n",
              " 'know lab goggles went',\n",
              " 'open door',\n",
              " 'waiting call',\n",
              " 'nope waiting sch daddy',\n",
              " 'cash prize claim call',\n",
              " 'tired arguing week week want',\n",
              " 'wait sch finish ard',\n",
              " 'mobile number claim call u back ring claim hot line',\n",
              " 'arngd marriage u r walkin unfortuntly snake bite u bt love marriage dancing frnt snake amp sayin bite bite',\n",
              " 'huh early dinner outside izzit',\n",
              " 'ok anyway need change said',\n",
              " 'tried contact reply offer min textand new video phone call reply free delivery tomorrow',\n",
              " 'ex wife able kid want kid one day',\n",
              " 'scotland hope showing jjc tendency take care live dream',\n",
              " 'tell u headache want use hour sick time',\n",
              " 'dun thk quit yet hmmm go jazz yogasana oso go meet em lesson den',\n",
              " 'pete please ring meive hardly gotany credit',\n",
              " 'ya srsly better yi tho',\n",
              " 'meeting call later',\n",
              " 'ur chance win wkly shopping spree txt shop c www txt shop com custcare x p wk',\n",
              " 'specially selected receive pound award call line close cost ppm c apply ag promo',\n",
              " 'private account statement show un redeemed point call identifier code expires',\n",
              " 'still grand prix',\n",
              " 'met stranger choose friend long world stand friendship never end let friend forever gud nitz',\n",
              " 'great',\n",
              " 'gud mrng dear nice day',\n",
              " 'important customer service announcement call freephone',\n",
              " 'exhausted train morning much wine pie sleep well',\n",
              " 'going buy mum present ar',\n",
              " 'mind blastin tsunami occur rajnikant stopped swimming indian ocean',\n",
              " 'u sending home first ok lor ready yet',\n",
              " 'speaking cash yet',\n",
              " 'happy come noon',\n",
              " 'meet lunch la',\n",
              " 'take care n get well soon',\n",
              " 'xclusive clubsaisai morow soiree speciale zouk nichols paris free rose lady info',\n",
              " 'meant say cant wait see u getting bored bridgwater banter',\n",
              " 'neva mind ok',\n",
              " 'fine imma get drink somethin want come find',\n",
              " 'day kick euro u kept date latest news result daily removed send get txt stop',\n",
              " 'valentine game send dis msg ur friend answer r someone really love u ques colour suit best rply',\n",
              " 'many dependent',\n",
              " 'thanx today cer nice catch ave find time often oh well take care c u soon c',\n",
              " 'called said choose future',\n",
              " 'happy valentine day know early hundred handsomes beauty wish thought finish aunty uncle st',\n",
              " 'like v shock leh co telling shuhui like telling leona also like dat almost know liao got ask abt ur reaction lor',\n",
              " 'family happiness',\n",
              " 'come n pick come immediately aft ur lesson',\n",
              " 'let snow let snow kind weather brings ppl together friendship grow',\n",
              " 'dear got lt gt dollar hi hi',\n",
              " 'good word word may leave u dismay many time',\n",
              " 'make sure alex know birthday fifteen minute far concerned',\n",
              " 'sorry got thing may pub later',\n",
              " 'nah straight bring bud drink something actually little useful straight cash',\n",
              " 'haha good hear officially paid market th',\n",
              " 'many lick take get center tootsie pop',\n",
              " 'yup thk r e teacher said make face look longer darren ask cut short',\n",
              " 'new textbuddy chat horny guy ur area p free receive search postcode gaytextbuddy com txt one name',\n",
              " 'today vodafone number ending selected receive award number match call receive award',\n",
              " 'please dont say like hi hi hi',\n",
              " 'thank u',\n",
              " 'oh forwarded message thought send',\n",
              " 'got seventeen pound seven hundred ml hope ok',\n",
              " 'dear voucher holder claim week offer pc go http www e tlp co uk expressoffer t c apply stop text txt stop',\n",
              " 'n funny',\n",
              " 'sweetheart hope kind day one load reason smile biola',\n",
              " 'login dat time dad fetching home',\n",
              " 'shower baby',\n",
              " 'askd u question hour answer',\n",
              " 'well imma definitely need restock thanksgiving let know',\n",
              " 'said kiss kiss sound effect gorgeous man kind person need smile brighten day',\n",
              " 'probably gonna swing wee bit',\n",
              " 'ya nice ready thursday',\n",
              " 'allo braved bus taken train triumphed mean b ham jolly good rest week',\n",
              " 'watching cartoon listening music amp eve go temple amp church u',\n",
              " 'mind ask happened dont say uncomfortable',\n",
              " 'private account statement show un redeemed point call identifier code expires',\n",
              " 'prob send email',\n",
              " 'cash prize claim call c rstm sw s ppm',\n",
              " 'thats cool sometimes slow gentle sonetimes rough hard',\n",
              " 'gonna say sorry would normal starting panic time sorry seeing tuesday',\n",
              " 'wait know wesley town bet hella drug',\n",
              " 'fine miss much',\n",
              " 'u got person story',\n",
              " 'tell drug dealer getting impatient',\n",
              " 'sun cant come earth send luv ray cloud cant come river send luv rain cant come meet u send care msg u gud evng',\n",
              " 'place man',\n",
              " 'doesnt make sense take unless free need know wikipedia com',\n",
              " 'premium phone service call',\n",
              " 'sea lay rock rock envelope envelope paper paper word',\n",
              " 'mum repent',\n",
              " 'sorry going home first daddy come fetch later',\n",
              " 'leave de start prepare next',\n",
              " 'yes baby study position kama sutra',\n",
              " 'en chikku nange bakra msg kalstiya tea coffee',\n",
              " 'carlos minute still need buy',\n",
              " 'pay lt decimal gt lakh',\n",
              " 'good evening ttyl',\n",
              " 'u receive msg',\n",
              " 'ho ho big belly laugh see ya tomo',\n",
              " 'sm ac sun post hello seem cool wanted say hi hi stop send stop',\n",
              " 'get ur st ringtone free reply msg tone gr top tone phone every week per wk opt send stop',\n",
              " 'ditto worry saying anything anymore like said last night whatever want peace',\n",
              " 'got lt gt way could pick',\n",
              " 'dont knw pa drink milk',\n",
              " 'maybe say hi find got card great escape wetherspoons',\n",
              " 'piggy r u awake bet u still sleeping going lunch',\n",
              " 'cause freaky lol',\n",
              " 'missed call cause yelling scrappy miss u wait u come home lonely today',\n",
              " 'hex place talk explain',\n",
              " 'log wat sdryb',\n",
              " 'xy going e lunch',\n",
              " 'hi sue year old work lapdancer love sex text live bedroom text sue textoperator g da ppmsg',\n",
              " 'wanted ask wait finish lect co lect finish hour anyway',\n",
              " 'finished work yet',\n",
              " 'every king cry baby every great building map imprtant u r today u wil reach tomorw gud ni',\n",
              " 'dear cherthala case u r coming cochin pls call bfore u start shall also reach accordingly tell day u r coming tmorow engaged an holiday',\n",
              " 'thanks love torch bold',\n",
              " 'forwarded please call immediately urgent message waiting',\n",
              " 'farm open',\n",
              " 'sorry trouble u buy dad big small sat n sun thanx',\n",
              " 'sister law hope great month saying hey abiola',\n",
              " 'purchase stuff today mail po box number',\n",
              " 'ah poop look like ill prob send laptop get fixed cuz gpu problem',\n",
              " 'good good job like entrepreneur',\n",
              " 'aight close still around alex place',\n",
              " 'meet corporation st outside gap see mind working',\n",
              " 'mum ask buy food home',\n",
              " 'k u also dont msg reply msg',\n",
              " 'much r willing pay',\n",
              " 'sorry call later',\n",
              " 'important prevent dehydration giving enough fluid',\n",
              " 'thats bit weird even supposed happening good idea sure pub',\n",
              " 'true dear sat pray evening felt sm time',\n",
              " 'think get away trek long family town sorry',\n",
              " 'wanna gym harri',\n",
              " 'quite late lar ard anyway wun b drivin',\n",
              " 'review keep fantastic nokia n gage game deck club nokia go www cnupdates com newsletter unsubscribe alert reply word',\n",
              " 'mths half price orange line rental latest camera phone free phone mths call mobilesdirect free update stoptxt c',\n",
              " 'height confidence aeronautics professor wer calld amp wer askd sit aeroplane aftr sat wer told dat plane w made student dey hurried plane bt didnt move said made student wont even start datz confidence',\n",
              " 'seems like weird timing night g want come smoke day shitstorm attributed always coming making everyone smoke',\n",
              " 'pm cost p',\n",
              " 'save stress person dorm account send account detail money sent',\n",
              " 'also know lunch menu da know',\n",
              " 'stuff sell tell',\n",
              " 'urgent nd attempt contact u u call b csbcm wc n xx callcost ppm mobilesvary max',\n",
              " 'book lesson msg call work sth going get spec membership px',\n",
              " 'guaranteed cash prize claim yr prize call customer service representative pm',\n",
              " 'macha dont feel upset assume mindset believe one evening wonderful plan u let life begin call anytime',\n",
              " 'oh send address',\n",
              " 'fine anytime best',\n",
              " 'wondar full flim',\n",
              " 'ya even cooky jelly',\n",
              " 'world running still maybe feeling admit mad correction let call life keep running world may u r also running let run',\n",
              " 'got look scrumptious daddy want eat night long',\n",
              " 'co lar ba dao ok pm lor u never ask go ah said u would ask fri said u ask today',\n",
              " 'alright omw gotta change order half th',\n",
              " 'exactly anyways far jide study visiting',\n",
              " 'dunno u ask',\n",
              " 'email alertfrom jeri stewartsize kbsubject low cost prescripiton drvgsto listen email call',\n",
              " 'spring coming early yay',\n",
              " 'lol feel bad use money take steak dinner',\n",
              " 'even u dont get trouble convincing tel twice tel neglect msg dont c read dont reply',\n",
              " 'leaving qatar tonite search opportunity went fast pls add ur prayer dear rakhesh',\n",
              " 'one talking',\n",
              " 'thanks looking really appreciate',\n",
              " 'hi customer loyalty offer new nokia mobile txtauction txt word start get ctxt tc p mtmsg',\n",
              " 'wish',\n",
              " 'haha mayb u rite u know well da feeling liked someone gd lor u faster go find one gal group attached liao',\n",
              " 'yes glad made',\n",
              " 'well little time thing good time ahead',\n",
              " 'got room soon put clock back til shouted everyone get realised wahay another hour bed',\n",
              " 'ok may free gym',\n",
              " 'men like shorter lady gaze eye',\n",
              " 'dunno jus say go lido time',\n",
              " 'promise take good care princess run please send pic get chance ttyl',\n",
              " 'u subscribed best mobile content service uk per day send stop helpline',\n",
              " 'reason spoken year anyways great week best exam',\n",
              " 'monday next week give full gist',\n",
              " 'realize year thousand old lady running around tattoo',\n",
              " 'important customer service announcement premier',\n",
              " 'dont gimme lip caveboy',\n",
              " 'get library',\n",
              " 'realy sorry recognise number confused r u please',\n",
              " 'didnt holla',\n",
              " 'cant think anyone spare room top head',\n",
              " 'faith make thing possible hope make thing work love make thing beautiful may three christmas merry christmas',\n",
              " 'u made appointment',\n",
              " 'call carlos phone vibrate acting might hear text',\n",
              " 'romantic paris night flight book next year call t c apply',\n",
              " 'grandma oh dear u still ill felt shit morning think hungover another night leave sat',\n",
              " 'urgent ur guaranteed award still unclaimed call closingdate claimcode pmmorefrommobile bremoved mobypobox l yf',\n",
              " 'nothing jus tot u would ask co u ba gua went mt faber yest yest jus went already mah today going jus call lor',\n",
              " 'wishing family merry x ma happy new year advance',\n",
              " 'ur awarded city break could win summer shopping spree every wk txt store skilgme tscs winawk age perwksub',\n",
              " 'nt goin got somethin unless meetin dinner lor haha wonder go ti time',\n",
              " 'sorry call later',\n",
              " 'cant pick phone right pls send message',\n",
              " 'lol know dramatic school already closed tomorrow apparently drive inch snow supposed get',\n",
              " 'getting anywhere damn job hunting',\n",
              " 'lol u drunkard hair moment yeah still tonight wats plan',\n",
              " 'idc get weaseling way shit twice row',\n",
              " 'wil lt gt minute got space',\n",
              " 'sleeping surfing',\n",
              " 'thanks picking trash',\n",
              " 'go tell friend sure want live smoke much spend hour begging come smoke',\n",
              " 'hi kate lovely see tonight ill phone tomorrow got sing guy gave card xxx',\n",
              " 'happy new year dear brother really miss got number decided send text wishing happiness abiola',\n",
              " 'mean get door',\n",
              " 'opinion jada kusruthi lovable silent spl character matured stylish simple pls reply',\n",
              " 'hmmm thought said hour slave late punish',\n",
              " 'beerage',\n",
              " 'important customer service announcement premier call freephone',\n",
              " 'dont think turn like randomlly within min opening',\n",
              " 'supposed make still town though',\n",
              " 'time fix spelling sometimes get completely diff word go figure',\n",
              " 'ever thought living good life perfect partner txt back name age join mobile community p sm',\n",
              " 'free top polyphonic tone call national rate get toppoly tune sent every week text subpoly per pole unsub',\n",
              " 'gud mrng dear hav nice day',\n",
              " 'hoping enjoyed game yesterday sorry touch pls know fondly bein thot great week abiola',\n",
              " 'e best ur driving tmr',\n",
              " 'u dogbreath sounding like jan c al',\n",
              " 'omg want scream weighed lost weight woohoo',\n",
              " 'generally one uncountable noun u dictionary piece research',\n",
              " 'really getting hanging around',\n",
              " 'orange customer may claim free camera phone upgrade loyalty call offer end thmarch c apply opt availa',\n",
              " 'petey boy whereare friendsare thekingshead come canlove nic',\n",
              " 'ok msg u b leave house',\n",
              " 'gimme lt gt minute ago',\n",
              " 'last chance claim ur worth discount voucher today text shop savamob offer mobile c savamob pobox uz sub',\n",
              " 'appt lt time gt fault u listen told u twice',\n",
              " 'free st week nokia tone ur mobile every week txt nokia get txting tell ur mate www getzed co uk pobox w wq norm p tone',\n",
              " 'guaranteed award even cashto claim ur award call free stop getstop php rg jx',\n",
              " 'k',\n",
              " 'dled imp',\n",
              " 'sure make sure know smokin yet',\n",
              " 'boooo always work quit',\n",
              " 'taking half day leave bec well',\n",
              " 'ugh wanna get bed warm',\n",
              " 'nervous lt gt',\n",
              " 'ring come guy costume gift future yowifes hint hint',\n",
              " 'congratulation ur awarded either cd gift voucher free entry weekly draw txt music tncs www ldew com win ppmx age',\n",
              " 'borrow ur bag ok',\n",
              " 'u outbid simonwatson shinco dvd plyr bid visit sm ac smsrewards end bid notification reply end',\n",
              " 'boytoy miss happened',\n",
              " 'lot used one babe model help youi bring match',\n",
              " 'also bringing galileo dobby',\n",
              " 'responding',\n",
              " 'boo babe u enjoyin yourjob u seemed b gettin well hunny hope ure ok take care llspeak u soonlots loveme xxxx',\n",
              " 'good afternoon starshine boytoy crave yet ache fuck sip cappuccino miss babe teasing kiss',\n",
              " 'road cant txt',\n",
              " 'smsservices yourinclusive text credit pls goto www comuk net login qxj unsubscribe stop extra charge help comuk cm ae',\n",
              " 'p alfie moon child need song ur mob tell ur txt tone charity nokias poly charity polys zed profit charity',\n",
              " 'good evening ttyl',\n",
              " 'hmm bit piece lol sigh',\n",
              " 'hahaha use brain dear',\n",
              " 'hey got mail',\n",
              " 'sorry light turned green meant another friend wanted lt gt worth may around',\n",
              " 'thanks yesterday sir wonderful hope enjoyed burial mojibiola',\n",
              " 'u secret admirer reveal think u r special call opt reply reveal stop per msg recd cust care',\n",
              " 'hi mate rv u hav nice hol message say hello coz sent u age started driving stay road rvx',\n",
              " 'dear voucher holder claim week offer pc please go http www e tlp co uk expressoffer t c apply stop text txt stop',\n",
              " 'thank much skyped wit kz sura didnt get pleasure company hope good given ultimatum oh countin aburo enjoy message sent day ago',\n",
              " 'surely result offer',\n",
              " 'good morning dear great amp successful day',\n",
              " 'want anytime network min text new video phone five pound per week call reply delivery tomorrow',\n",
              " 'sir late paying rent past month pay lt gt charge felt would inconsiderate nag something give great cost didnt speak however recession wont able pay charge month hence askin well ahead month end please help thanks',\n",
              " 'tried contact offer new video phone anytime network min half price rental camcorder call reply delivery wed',\n",
              " 'last chance claim ur worth discount voucher text yes savamob member offer mobile c sub remove txt x stop',\n",
              " 'luv u soo much u understand special u r ring u morrow luv u xxx',\n",
              " 'pls send comprehensive mail paying much',\n",
              " 'prashanthettan mother passed away last night pray family',\n",
              " 'urgent call landline complimentary ibiza holiday cash await collection sae c po box sk wp ppm',\n",
              " 'k k going',\n",
              " 'meanwhile shit suite xavier decided give u lt gt second warning samantha coming playing jay guitar impress shit also think doug realizes live anymore',\n",
              " 'stomach thru much trauma swear eat better lose weight',\n",
              " 'office whats matter msg call break',\n",
              " 'yeah barely enough room two u x many fucking shoe sorry man see later',\n",
              " 'today offer claim ur worth discount voucher text yes savamob member offer mobile c sub unsub reply x',\n",
              " 'u reach orchard already u wan go buy ticket first',\n",
              " 'real baby want bring inner tigress',\n",
              " 'da run activate full version da',\n",
              " 'ah poor baby hope urfeeling bettersn luv probthat overdose work hey go careful spk u sn lot lovejen xxx',\n",
              " 'stop story told returned saying order',\n",
              " 'talk sexy make new friend fall love world discreet text dating service text vip see could meet',\n",
              " 'going take babe',\n",
              " 'hai ana tomarrow coming morning lt decimal gt ill sathy go rto office reply came home',\n",
              " 'spoon okay',\n",
              " 'say somebody named tampa',\n",
              " 'work going min',\n",
              " 'brother genius',\n",
              " 'sorry guess whenever get hold connection maybe hour two text',\n",
              " 'u find time bus coz need sort stuff',\n",
              " 'dude ive seeing lotta corvette lately',\n",
              " 'congratulation ur awarded either yr supply cd virgin record mystery gift guaranteed call t c www smsco net pm approx min',\n",
              " 'consider wall bunker shit important never play peaceful guess place high enough matter',\n",
              " 'private account statement xxxxxx show un redeemed point call identifier code expires',\n",
              " 'hello need posh bird chap user trial prod champneys put need address dob asap ta r',\n",
              " 'u want xmas free text message new video phone half price line rental call free find',\n",
              " 'well officially philosophical hole u wanna call home ready saved',\n",
              " 'going good problem still need little experience understand american customer voice',\n",
              " 'text drop x',\n",
              " 'ugh long day exhausted want cuddle take nap',\n",
              " 'talk atleast day otherwise miss best friend world shakespeare shesil lt gt',\n",
              " 'shop till u drop either k k cash travel voucher call ntt po box cr bt fixedline cost ppm mobile vary',\n",
              " 'castor need see something',\n",
              " 'sunshine quiz wkly q win top sony dvd player u know country liverpool played mid week txt ansr sp tyrone',\n",
              " 'u secret admirer looking make contact u find r reveal think ur special call',\n",
              " 'u secret admirer looking make contact u find r reveal think ur special call stopsms',\n",
              " 'reminder downloaded content already paid goto http doit mymoby tv collect content',\n",
              " 'see knew giving break time woul lead always wanting miss curfew gonna gibe til one midnight movie gonna get til need come home need getsleep anything need b studdying ear training',\n",
              " 'love give massage use lot baby oil fave position',\n",
              " 'dude go sup',\n",
              " 'yoyyooo u know change permission drive mac usb flash drive',\n",
              " 'gibbs unsold mike hussey',\n",
              " 'like talk pa able dont know',\n",
              " 'dun cut short leh u dun like ah failed quite sad',\n",
              " 'unbelievable faglord',\n",
              " 'wife knew time murder exactly',\n",
              " 'ask princess',\n",
              " 'great princess thinking',\n",
              " 'nutter cutter ctter cttergg cttargg ctargg ctagg ie',\n",
              " 'ok noe u busy really bored msg u oso dunno wat colour choose one',\n",
              " 'g class early tomorrow thus trying smoke lt gt',\n",
              " 'superb thought grateful u dont everything u want mean u still opportunity happier tomorrow u today',\n",
              " 'hope good week checking',\n",
              " 'used hope agent drop since booked thing year whole boston nyc experiment',\n",
              " 'thursday night yeah sure thing work',\n",
              " 'free ringtone waiting collected simply text password mix verify get usher britney fml po box mk h ppw',\n",
              " 'probably money worry thing coming due several outstanding invoice work two three month ago',\n",
              " 'possible teach',\n",
              " 'wonder phone battery went dead tell love babe',\n",
              " 'lovely smell bus tobacco',\n",
              " 'getting worried derek taylor already assumed worst',\n",
              " 'hey charles sorry late reply',\n",
              " 'lastest stereophonics marley dizzee racal libertine stroke win nookii game flirt click themob wap bookmark text wap',\n",
              " 'give plus said grinule greet whenever speak',\n",
              " 'white fudge oreo store',\n",
              " 'january male sale hot gay chat cheaper call national rate p min cheap p min peak stop text call p min',\n",
              " 'love come took long leave zaher got word ym happy see sad left miss',\n",
              " 'sorry hurt',\n",
              " 'feel nauseous pissed eat sweet week cause today planning pig dieting week hungry',\n",
              " 'ok lor early still project meeting',\n",
              " 'call da waiting call',\n",
              " 'could ask carlos could get anybody else chip',\n",
              " 'actually send reminder today wonderful weekend',\n",
              " 'people see msg think iam addicted msging wrong bcoz know iam addicted sweet friend bslvyl',\n",
              " 'hey gave photo registered driving ah tmr wanna meet yck',\n",
              " 'dont talk ever ok word',\n",
              " 'u wana see',\n",
              " 'way school pls send ashley number',\n",
              " 'shall fine avalarr hollalater',\n",
              " 'went attend another two round today still reach home',\n",
              " 'actually deleted old website blogging magicalsongs blogspot com',\n",
              " 'k wait chikku il send aftr lt gt min',\n",
              " 'diet ate many slice pizza yesterday ugh always diet',\n",
              " 'k give kvb acc detail',\n",
              " 'oh come ah',\n",
              " 'money r lucky winner claim prize text money million give away ppt x normal text rate box w jy',\n",
              " 'really sorry b able friday hope u find alternative hope yr term going ok',\n",
              " 'congratulation ore mo owo wa enjoy wish many happy moment fro wherever go',\n",
              " 'samus shoulder yet',\n",
              " 'time think need know near campus',\n",
              " 'dear matthew please call landline complimentary lux tenerife holiday cash await collection ppm sae c box sk xh',\n",
              " 'dun wear jean lor',\n",
              " 'since side fever vomitin',\n",
              " 'k k college',\n",
              " 'urgent call landline complimentary tenerife holiday cash await collection sae c box hp yf ppm',\n",
              " 'better made friday stuffed like pig yesterday feel bleh least writhing pain kind bleh',\n",
              " 'sell ton coin sell coin someone thru paypal voila money back life pocket',\n",
              " 'theyre lot place hospital medical place safe',\n",
              " 'getting touch folk waiting company txt back name age opt enjoy community p sm',\n",
              " 'also sorta blown couple time recently id rather text blue looking weed',\n",
              " 'sent score sophas secondary application school think thinking applying research cost also contact joke ogunrinde school one le expensive one',\n",
              " 'cant wait see photo useful',\n",
              " 'ur cash balance currently pound maximize ur cash send go p msg cc po box tcr w',\n",
              " 'hey booked kb sat already lesson going ah keep sat night free need meet confirm lodging',\n",
              " 'chk ur belovd m dict',\n",
              " 'time want come',\n",
              " 'awesome lemme know whenever around',\n",
              " 'shb b ok lor thanx',\n",
              " 'beautiful truth gravity read carefully heart feel light someone feel heavy someone leaf good night',\n",
              " 'also remember get dobby bowl car',\n",
              " 'filthy story girl waiting',\n",
              " 'sorry c ur msg yar lor poor thing one night tmr u brand new room sleep',\n",
              " 'love decision feeling could decide love life would much simpler le magical',\n",
              " 'welp apparently retired',\n",
              " 'sort code acc bank natwest reply confirm sent right person',\n",
              " '',\n",
              " 'u sure u take sick time',\n",
              " 'urgent trying contact u today draw show prize guaranteed call land line claim valid hr',\n",
              " 'watching cartoon listening music amp eve go temple amp church u',\n",
              " 'yo chad gymnastics class wanna take site say christian class full',\n",
              " 'much buzy',\n",
              " 'better still catch let ask sell lt gt',\n",
              " 'sure night menu know noon menu',\n",
              " 'u want come back beautiful necklace token heart thats give wife liking see one give dont call wait till come',\n",
              " 'willing go aptitude class',\n",
              " 'wont b trying sort house ok',\n",
              " 'yar lor wan go c horse racing today mah eat earlier lor ate chicken rice u',\n",
              " 'haha awesome omw back',\n",
              " 'yup thk e shop close lor',\n",
              " 'account number',\n",
              " 'eh u send wrongly lar',\n",
              " 'hey ad crap nite borin without ya boggy u boring biatch thanx u wait til nxt time il ave ya',\n",
              " 'ok shall talk',\n",
              " 'dont hesitate know second time weakness like keep notebook eat day anything changed day sure nothing',\n",
              " 'hey pay salary de lt gt',\n",
              " 'another month need chocolate weed alcohol',\n",
              " 'started searching get job day great potential talent',\n",
              " 'reckon need town eightish walk carpark',\n",
              " 'congrats mobile g videophones r call videochat wid mate play java game dload polyph music noline rentl',\n",
              " 'look fuckin time fuck think',\n",
              " 'yo guess dropped',\n",
              " 'carlos say mu lt gt minute',\n",
              " 'office call lt gt min',\n",
              " 'geeee miss already know think fuck wait till next year together loving kiss',\n",
              " 'yun ah ubi one say wan call tomorrow call look irene ere got bus ubi cres ubi tech park ph st wkg day n',\n",
              " 'ugh gotta drive back sd la butt sore',\n",
              " 'th july',\n",
              " 'hi im relaxing time ever get every day party good night get home tomorrow ish',\n",
              " 'wan come come lor din c stripe skirt',\n",
              " 'xmas story peace xmas msg love xmas miracle jesus hav blessed month ahead amp wish u merry xmas',\n",
              " 'number',\n",
              " 'change e one next escalator',\n",
              " 'yetunde class run water make ok pls',\n",
              " 'lot happened feel quiet beth aunt charlie working lot helen mo',\n",
              " 'wait bus stop aft ur lect lar dun c go get car come back n pick',\n",
              " ...]"
            ]
          },
          "metadata": {},
          "execution_count": 9
        }
      ]
    },
    {
      "cell_type": "markdown",
      "source": [
        "## BOW"
      ],
      "metadata": {
        "id": "rkofq-ar2Lll"
      }
    },
    {
      "cell_type": "code",
      "source": [
        "# Creating the BOW model\n",
        "from sklearn.feature_extraction.text import CountVectorizer # BOW"
      ],
      "metadata": {
        "id": "bFnBo7vM2Llm"
      },
      "execution_count": null,
      "outputs": []
    },
    {
      "cell_type": "code",
      "source": [
        "cv = CountVectorizer(max_features=2500) # here it use BOW\n",
        "\"\"\"TfidfVectorizer is a class in scikit-learn (sklearn) that is used to convert a collection of text documents into a\n",
        "matrix of TF-IDF (Term Frequency-Inverse Document Frequency) features. \"\"\"\n",
        "cv"
      ],
      "metadata": {
        "colab": {
          "base_uri": "https://localhost:8080/"
        },
        "outputId": "766faefa-6198-4c2f-9742-5c46e82c8d57",
        "id": "vbId5B8c2Lln"
      },
      "execution_count": null,
      "outputs": [
        {
          "output_type": "execute_result",
          "data": {
            "text/plain": [
              "CountVectorizer(max_features=2500)"
            ],
            "text/html": [
              "<style>#sk-container-id-1 {color: black;background-color: white;}#sk-container-id-1 pre{padding: 0;}#sk-container-id-1 div.sk-toggleable {background-color: white;}#sk-container-id-1 label.sk-toggleable__label {cursor: pointer;display: block;width: 100%;margin-bottom: 0;padding: 0.3em;box-sizing: border-box;text-align: center;}#sk-container-id-1 label.sk-toggleable__label-arrow:before {content: \"▸\";float: left;margin-right: 0.25em;color: #696969;}#sk-container-id-1 label.sk-toggleable__label-arrow:hover:before {color: black;}#sk-container-id-1 div.sk-estimator:hover label.sk-toggleable__label-arrow:before {color: black;}#sk-container-id-1 div.sk-toggleable__content {max-height: 0;max-width: 0;overflow: hidden;text-align: left;background-color: #f0f8ff;}#sk-container-id-1 div.sk-toggleable__content pre {margin: 0.2em;color: black;border-radius: 0.25em;background-color: #f0f8ff;}#sk-container-id-1 input.sk-toggleable__control:checked~div.sk-toggleable__content {max-height: 200px;max-width: 100%;overflow: auto;}#sk-container-id-1 input.sk-toggleable__control:checked~label.sk-toggleable__label-arrow:before {content: \"▾\";}#sk-container-id-1 div.sk-estimator input.sk-toggleable__control:checked~label.sk-toggleable__label {background-color: #d4ebff;}#sk-container-id-1 div.sk-label input.sk-toggleable__control:checked~label.sk-toggleable__label {background-color: #d4ebff;}#sk-container-id-1 input.sk-hidden--visually {border: 0;clip: rect(1px 1px 1px 1px);clip: rect(1px, 1px, 1px, 1px);height: 1px;margin: -1px;overflow: hidden;padding: 0;position: absolute;width: 1px;}#sk-container-id-1 div.sk-estimator {font-family: monospace;background-color: #f0f8ff;border: 1px dotted black;border-radius: 0.25em;box-sizing: border-box;margin-bottom: 0.5em;}#sk-container-id-1 div.sk-estimator:hover {background-color: #d4ebff;}#sk-container-id-1 div.sk-parallel-item::after {content: \"\";width: 100%;border-bottom: 1px solid gray;flex-grow: 1;}#sk-container-id-1 div.sk-label:hover label.sk-toggleable__label {background-color: #d4ebff;}#sk-container-id-1 div.sk-serial::before {content: \"\";position: absolute;border-left: 1px solid gray;box-sizing: border-box;top: 0;bottom: 0;left: 50%;z-index: 0;}#sk-container-id-1 div.sk-serial {display: flex;flex-direction: column;align-items: center;background-color: white;padding-right: 0.2em;padding-left: 0.2em;position: relative;}#sk-container-id-1 div.sk-item {position: relative;z-index: 1;}#sk-container-id-1 div.sk-parallel {display: flex;align-items: stretch;justify-content: center;background-color: white;position: relative;}#sk-container-id-1 div.sk-item::before, #sk-container-id-1 div.sk-parallel-item::before {content: \"\";position: absolute;border-left: 1px solid gray;box-sizing: border-box;top: 0;bottom: 0;left: 50%;z-index: -1;}#sk-container-id-1 div.sk-parallel-item {display: flex;flex-direction: column;z-index: 1;position: relative;background-color: white;}#sk-container-id-1 div.sk-parallel-item:first-child::after {align-self: flex-end;width: 50%;}#sk-container-id-1 div.sk-parallel-item:last-child::after {align-self: flex-start;width: 50%;}#sk-container-id-1 div.sk-parallel-item:only-child::after {width: 0;}#sk-container-id-1 div.sk-dashed-wrapped {border: 1px dashed gray;margin: 0 0.4em 0.5em 0.4em;box-sizing: border-box;padding-bottom: 0.4em;background-color: white;}#sk-container-id-1 div.sk-label label {font-family: monospace;font-weight: bold;display: inline-block;line-height: 1.2em;}#sk-container-id-1 div.sk-label-container {text-align: center;}#sk-container-id-1 div.sk-container {/* jupyter's `normalize.less` sets `[hidden] { display: none; }` but bootstrap.min.css set `[hidden] { display: none !important; }` so we also need the `!important` here to be able to override the default hidden behavior on the sphinx rendered scikit-learn.org. See: https://github.com/scikit-learn/scikit-learn/issues/21755 */display: inline-block !important;position: relative;}#sk-container-id-1 div.sk-text-repr-fallback {display: none;}</style><div id=\"sk-container-id-1\" class=\"sk-top-container\"><div class=\"sk-text-repr-fallback\"><pre>CountVectorizer(max_features=2500)</pre><b>In a Jupyter environment, please rerun this cell to show the HTML representation or trust the notebook. <br />On GitHub, the HTML representation is unable to render, please try loading this page with nbviewer.org.</b></div><div class=\"sk-container\" hidden><div class=\"sk-item\"><div class=\"sk-estimator sk-toggleable\"><input class=\"sk-toggleable__control sk-hidden--visually\" id=\"sk-estimator-id-1\" type=\"checkbox\" checked><label for=\"sk-estimator-id-1\" class=\"sk-toggleable__label sk-toggleable__label-arrow\">CountVectorizer</label><div class=\"sk-toggleable__content\"><pre>CountVectorizer(max_features=2500)</pre></div></div></div></div></div>"
            ]
          },
          "metadata": {},
          "execution_count": 11
        }
      ]
    },
    {
      "cell_type": "code",
      "source": [
        "\"\"\"transforms the text documents into a sparse matrix representation, where each row represents a document,\n",
        "and each column represents a unique word (or token) in the corpus. The values in the matrix indicate the frequency\n",
        "of each word in each document.\"\"\"\n",
        "X = cv.fit_transform(corpus).toarray()\n",
        "X"
      ],
      "metadata": {
        "colab": {
          "base_uri": "https://localhost:8080/"
        },
        "outputId": "aceb6b17-2789-4abe-abe7-b6ab4f7e61fe",
        "id": "sz55uSQp2Lln"
      },
      "execution_count": null,
      "outputs": [
        {
          "output_type": "execute_result",
          "data": {
            "text/plain": [
              "array([[0, 0, 0, ..., 0, 0, 0],\n",
              "       [0, 0, 0, ..., 0, 0, 0],\n",
              "       [0, 0, 0, ..., 0, 0, 0],\n",
              "       ...,\n",
              "       [0, 0, 0, ..., 0, 0, 0],\n",
              "       [0, 0, 0, ..., 0, 0, 0],\n",
              "       [0, 0, 0, ..., 0, 0, 0]])"
            ]
          },
          "metadata": {},
          "execution_count": 12
        }
      ]
    },
    {
      "cell_type": "markdown",
      "source": [
        "# Split()"
      ],
      "metadata": {
        "id": "sJEeEX7hofC6"
      }
    },
    {
      "cell_type": "code",
      "source": [
        "y=pd.get_dummies(messages_df['label'])\n",
        "y=y.iloc[:,1].values\n",
        "y"
      ],
      "metadata": {
        "colab": {
          "base_uri": "https://localhost:8080/"
        },
        "id": "KL3SDW5imhpv",
        "outputId": "722c03cf-89bd-4b0c-96d0-f8abaf3e3384"
      },
      "execution_count": null,
      "outputs": [
        {
          "output_type": "execute_result",
          "data": {
            "text/plain": [
              "array([0, 0, 1, ..., 0, 0, 0], dtype=uint8)"
            ]
          },
          "metadata": {},
          "execution_count": 13
        }
      ]
    },
    {
      "cell_type": "code",
      "source": [
        "y.shape"
      ],
      "metadata": {
        "id": "fVuPf2lmvM_a",
        "outputId": "b2210326-dcd0-4f1f-81b4-d8032e6f344f",
        "colab": {
          "base_uri": "https://localhost:8080/"
        }
      },
      "execution_count": null,
      "outputs": [
        {
          "output_type": "execute_result",
          "data": {
            "text/plain": [
              "(5572,)"
            ]
          },
          "metadata": {},
          "execution_count": 14
        }
      ]
    },
    {
      "cell_type": "code",
      "source": [
        "X.shape"
      ],
      "metadata": {
        "colab": {
          "base_uri": "https://localhost:8080/"
        },
        "outputId": "2238cd84-1160-4f2c-c5a0-2eb0cdc7b7b6",
        "id": "Ozp_SzRS2Llo"
      },
      "execution_count": null,
      "outputs": [
        {
          "output_type": "execute_result",
          "data": {
            "text/plain": [
              "(5572, 2500)"
            ]
          },
          "metadata": {},
          "execution_count": 15
        }
      ]
    },
    {
      "cell_type": "code",
      "source": [
        "print(X[0])"
      ],
      "metadata": {
        "colab": {
          "base_uri": "https://localhost:8080/"
        },
        "outputId": "63b1d3c5-6eb8-4622-e3fa-e36c9be01e9c",
        "id": "6Y9-6vMM2Llo"
      },
      "execution_count": null,
      "outputs": [
        {
          "output_type": "stream",
          "name": "stdout",
          "text": [
            "[0 0 0 ... 0 0 0]\n"
          ]
        }
      ]
    },
    {
      "cell_type": "code",
      "source": [
        "# for element in X[0]:\n",
        "#     print(element)"
      ],
      "metadata": {
        "id": "1wHxu2rW2Llp"
      },
      "execution_count": null,
      "outputs": []
    },
    {
      "cell_type": "code",
      "source": [
        "e=[]\n",
        "for element in X[0]:\n",
        "    if element!=0:\n",
        "      e.append(element)\n",
        "      print(element)\n",
        "print(len(e))"
      ],
      "metadata": {
        "colab": {
          "base_uri": "https://localhost:8080/"
        },
        "outputId": "bc79949c-129c-456c-cd6d-fafc4fec4fba",
        "id": "7lCKZcZr2Llp"
      },
      "execution_count": null,
      "outputs": [
        {
          "output_type": "stream",
          "name": "stdout",
          "text": [
            "1\n",
            "1\n",
            "1\n",
            "1\n",
            "1\n",
            "1\n",
            "1\n",
            "1\n",
            "1\n",
            "1\n",
            "1\n",
            "11\n"
          ]
        }
      ]
    },
    {
      "cell_type": "code",
      "source": [
        "X.shape"
      ],
      "metadata": {
        "colab": {
          "base_uri": "https://localhost:8080/"
        },
        "outputId": "3cac8ebe-d03f-4b12-c93e-0852864d4052",
        "id": "hNLlwWNr2Llp"
      },
      "execution_count": null,
      "outputs": [
        {
          "output_type": "execute_result",
          "data": {
            "text/plain": [
              "(5572, 2500)"
            ]
          },
          "metadata": {},
          "execution_count": 19
        }
      ]
    },
    {
      "cell_type": "code",
      "source": [
        "from sklearn.model_selection import train_test_split"
      ],
      "metadata": {
        "id": "r3t0et3u2Llr"
      },
      "execution_count": null,
      "outputs": []
    },
    {
      "cell_type": "code",
      "source": [
        "X_train, X_test, y_train, y_test = train_test_split(X, y, test_size = 0.20, random_state = 0)\n",
        "print(f\"X_train: {X_train.shape}\\ny_train: {y_train.shape}\\nX_test: {X_test.shape}\\ny_test: {y_test.shape}\")"
      ],
      "metadata": {
        "colab": {
          "base_uri": "https://localhost:8080/"
        },
        "outputId": "5753e3e1-9d29-4bbf-c1fa-d4dc146fe63a",
        "id": "WXh30RH12Llr"
      },
      "execution_count": null,
      "outputs": [
        {
          "output_type": "stream",
          "name": "stdout",
          "text": [
            "X_train: (4457, 2500)\n",
            "y_train: (4457,)\n",
            "X_test: (1115, 2500)\n",
            "y_test: (1115,)\n"
          ]
        }
      ]
    },
    {
      "cell_type": "markdown",
      "source": [
        "# Model Building and Training\n",
        "- GaussianNB\n",
        "- MultinomialNB\n",
        "- ComplementNB\n",
        "- BernoulliNB"
      ],
      "metadata": {
        "id": "TFmb3zRMt18n"
      }
    },
    {
      "cell_type": "code",
      "source": [
        "from sklearn.naive_bayes import GaussianNB, MultinomialNB, ComplementNB, BernoulliNB, CategoricalNB\n",
        "model_gnb = GaussianNB()\n",
        "model_mnb = MultinomialNB()\n",
        "model_cnb = ComplementNB()\n",
        "model_bnb = BernoulliNB()\n",
        "model_catnb = CategoricalNB()"
      ],
      "metadata": {
        "id": "TKYiMyMltxz9"
      },
      "execution_count": null,
      "outputs": []
    },
    {
      "cell_type": "code",
      "source": [
        "spam_detect_model_gnb = model_gnb.fit(X_train, y_train)\n",
        "spam_detect_model_gnb"
      ],
      "metadata": {
        "colab": {
          "base_uri": "https://localhost:8080/",
          "height": 75
        },
        "id": "8bYzLiUZuYjD",
        "outputId": "40f147b1-1f70-496e-e833-eab6b6661c90"
      },
      "execution_count": null,
      "outputs": [
        {
          "output_type": "execute_result",
          "data": {
            "text/plain": [
              "GaussianNB()"
            ],
            "text/html": [
              "<style>#sk-container-id-2 {color: black;background-color: white;}#sk-container-id-2 pre{padding: 0;}#sk-container-id-2 div.sk-toggleable {background-color: white;}#sk-container-id-2 label.sk-toggleable__label {cursor: pointer;display: block;width: 100%;margin-bottom: 0;padding: 0.3em;box-sizing: border-box;text-align: center;}#sk-container-id-2 label.sk-toggleable__label-arrow:before {content: \"▸\";float: left;margin-right: 0.25em;color: #696969;}#sk-container-id-2 label.sk-toggleable__label-arrow:hover:before {color: black;}#sk-container-id-2 div.sk-estimator:hover label.sk-toggleable__label-arrow:before {color: black;}#sk-container-id-2 div.sk-toggleable__content {max-height: 0;max-width: 0;overflow: hidden;text-align: left;background-color: #f0f8ff;}#sk-container-id-2 div.sk-toggleable__content pre {margin: 0.2em;color: black;border-radius: 0.25em;background-color: #f0f8ff;}#sk-container-id-2 input.sk-toggleable__control:checked~div.sk-toggleable__content {max-height: 200px;max-width: 100%;overflow: auto;}#sk-container-id-2 input.sk-toggleable__control:checked~label.sk-toggleable__label-arrow:before {content: \"▾\";}#sk-container-id-2 div.sk-estimator input.sk-toggleable__control:checked~label.sk-toggleable__label {background-color: #d4ebff;}#sk-container-id-2 div.sk-label input.sk-toggleable__control:checked~label.sk-toggleable__label {background-color: #d4ebff;}#sk-container-id-2 input.sk-hidden--visually {border: 0;clip: rect(1px 1px 1px 1px);clip: rect(1px, 1px, 1px, 1px);height: 1px;margin: -1px;overflow: hidden;padding: 0;position: absolute;width: 1px;}#sk-container-id-2 div.sk-estimator {font-family: monospace;background-color: #f0f8ff;border: 1px dotted black;border-radius: 0.25em;box-sizing: border-box;margin-bottom: 0.5em;}#sk-container-id-2 div.sk-estimator:hover {background-color: #d4ebff;}#sk-container-id-2 div.sk-parallel-item::after {content: \"\";width: 100%;border-bottom: 1px solid gray;flex-grow: 1;}#sk-container-id-2 div.sk-label:hover label.sk-toggleable__label {background-color: #d4ebff;}#sk-container-id-2 div.sk-serial::before {content: \"\";position: absolute;border-left: 1px solid gray;box-sizing: border-box;top: 0;bottom: 0;left: 50%;z-index: 0;}#sk-container-id-2 div.sk-serial {display: flex;flex-direction: column;align-items: center;background-color: white;padding-right: 0.2em;padding-left: 0.2em;position: relative;}#sk-container-id-2 div.sk-item {position: relative;z-index: 1;}#sk-container-id-2 div.sk-parallel {display: flex;align-items: stretch;justify-content: center;background-color: white;position: relative;}#sk-container-id-2 div.sk-item::before, #sk-container-id-2 div.sk-parallel-item::before {content: \"\";position: absolute;border-left: 1px solid gray;box-sizing: border-box;top: 0;bottom: 0;left: 50%;z-index: -1;}#sk-container-id-2 div.sk-parallel-item {display: flex;flex-direction: column;z-index: 1;position: relative;background-color: white;}#sk-container-id-2 div.sk-parallel-item:first-child::after {align-self: flex-end;width: 50%;}#sk-container-id-2 div.sk-parallel-item:last-child::after {align-self: flex-start;width: 50%;}#sk-container-id-2 div.sk-parallel-item:only-child::after {width: 0;}#sk-container-id-2 div.sk-dashed-wrapped {border: 1px dashed gray;margin: 0 0.4em 0.5em 0.4em;box-sizing: border-box;padding-bottom: 0.4em;background-color: white;}#sk-container-id-2 div.sk-label label {font-family: monospace;font-weight: bold;display: inline-block;line-height: 1.2em;}#sk-container-id-2 div.sk-label-container {text-align: center;}#sk-container-id-2 div.sk-container {/* jupyter's `normalize.less` sets `[hidden] { display: none; }` but bootstrap.min.css set `[hidden] { display: none !important; }` so we also need the `!important` here to be able to override the default hidden behavior on the sphinx rendered scikit-learn.org. See: https://github.com/scikit-learn/scikit-learn/issues/21755 */display: inline-block !important;position: relative;}#sk-container-id-2 div.sk-text-repr-fallback {display: none;}</style><div id=\"sk-container-id-2\" class=\"sk-top-container\"><div class=\"sk-text-repr-fallback\"><pre>GaussianNB()</pre><b>In a Jupyter environment, please rerun this cell to show the HTML representation or trust the notebook. <br />On GitHub, the HTML representation is unable to render, please try loading this page with nbviewer.org.</b></div><div class=\"sk-container\" hidden><div class=\"sk-item\"><div class=\"sk-estimator sk-toggleable\"><input class=\"sk-toggleable__control sk-hidden--visually\" id=\"sk-estimator-id-2\" type=\"checkbox\" checked><label for=\"sk-estimator-id-2\" class=\"sk-toggleable__label sk-toggleable__label-arrow\">GaussianNB</label><div class=\"sk-toggleable__content\"><pre>GaussianNB()</pre></div></div></div></div></div>"
            ]
          },
          "metadata": {},
          "execution_count": 23
        }
      ]
    },
    {
      "cell_type": "code",
      "source": [
        "spam_detect_model_mnb = model_mnb.fit(X_train, y_train)\n",
        "spam_detect_model_mnb"
      ],
      "metadata": {
        "colab": {
          "base_uri": "https://localhost:8080/",
          "height": 75
        },
        "id": "der0HewUrGXU",
        "outputId": "a8cf9262-bd78-4760-d94d-ccb3f7ae2671"
      },
      "execution_count": null,
      "outputs": [
        {
          "output_type": "execute_result",
          "data": {
            "text/plain": [
              "MultinomialNB()"
            ],
            "text/html": [
              "<style>#sk-container-id-3 {color: black;background-color: white;}#sk-container-id-3 pre{padding: 0;}#sk-container-id-3 div.sk-toggleable {background-color: white;}#sk-container-id-3 label.sk-toggleable__label {cursor: pointer;display: block;width: 100%;margin-bottom: 0;padding: 0.3em;box-sizing: border-box;text-align: center;}#sk-container-id-3 label.sk-toggleable__label-arrow:before {content: \"▸\";float: left;margin-right: 0.25em;color: #696969;}#sk-container-id-3 label.sk-toggleable__label-arrow:hover:before {color: black;}#sk-container-id-3 div.sk-estimator:hover label.sk-toggleable__label-arrow:before {color: black;}#sk-container-id-3 div.sk-toggleable__content {max-height: 0;max-width: 0;overflow: hidden;text-align: left;background-color: #f0f8ff;}#sk-container-id-3 div.sk-toggleable__content pre {margin: 0.2em;color: black;border-radius: 0.25em;background-color: #f0f8ff;}#sk-container-id-3 input.sk-toggleable__control:checked~div.sk-toggleable__content {max-height: 200px;max-width: 100%;overflow: auto;}#sk-container-id-3 input.sk-toggleable__control:checked~label.sk-toggleable__label-arrow:before {content: \"▾\";}#sk-container-id-3 div.sk-estimator input.sk-toggleable__control:checked~label.sk-toggleable__label {background-color: #d4ebff;}#sk-container-id-3 div.sk-label input.sk-toggleable__control:checked~label.sk-toggleable__label {background-color: #d4ebff;}#sk-container-id-3 input.sk-hidden--visually {border: 0;clip: rect(1px 1px 1px 1px);clip: rect(1px, 1px, 1px, 1px);height: 1px;margin: -1px;overflow: hidden;padding: 0;position: absolute;width: 1px;}#sk-container-id-3 div.sk-estimator {font-family: monospace;background-color: #f0f8ff;border: 1px dotted black;border-radius: 0.25em;box-sizing: border-box;margin-bottom: 0.5em;}#sk-container-id-3 div.sk-estimator:hover {background-color: #d4ebff;}#sk-container-id-3 div.sk-parallel-item::after {content: \"\";width: 100%;border-bottom: 1px solid gray;flex-grow: 1;}#sk-container-id-3 div.sk-label:hover label.sk-toggleable__label {background-color: #d4ebff;}#sk-container-id-3 div.sk-serial::before {content: \"\";position: absolute;border-left: 1px solid gray;box-sizing: border-box;top: 0;bottom: 0;left: 50%;z-index: 0;}#sk-container-id-3 div.sk-serial {display: flex;flex-direction: column;align-items: center;background-color: white;padding-right: 0.2em;padding-left: 0.2em;position: relative;}#sk-container-id-3 div.sk-item {position: relative;z-index: 1;}#sk-container-id-3 div.sk-parallel {display: flex;align-items: stretch;justify-content: center;background-color: white;position: relative;}#sk-container-id-3 div.sk-item::before, #sk-container-id-3 div.sk-parallel-item::before {content: \"\";position: absolute;border-left: 1px solid gray;box-sizing: border-box;top: 0;bottom: 0;left: 50%;z-index: -1;}#sk-container-id-3 div.sk-parallel-item {display: flex;flex-direction: column;z-index: 1;position: relative;background-color: white;}#sk-container-id-3 div.sk-parallel-item:first-child::after {align-self: flex-end;width: 50%;}#sk-container-id-3 div.sk-parallel-item:last-child::after {align-self: flex-start;width: 50%;}#sk-container-id-3 div.sk-parallel-item:only-child::after {width: 0;}#sk-container-id-3 div.sk-dashed-wrapped {border: 1px dashed gray;margin: 0 0.4em 0.5em 0.4em;box-sizing: border-box;padding-bottom: 0.4em;background-color: white;}#sk-container-id-3 div.sk-label label {font-family: monospace;font-weight: bold;display: inline-block;line-height: 1.2em;}#sk-container-id-3 div.sk-label-container {text-align: center;}#sk-container-id-3 div.sk-container {/* jupyter's `normalize.less` sets `[hidden] { display: none; }` but bootstrap.min.css set `[hidden] { display: none !important; }` so we also need the `!important` here to be able to override the default hidden behavior on the sphinx rendered scikit-learn.org. See: https://github.com/scikit-learn/scikit-learn/issues/21755 */display: inline-block !important;position: relative;}#sk-container-id-3 div.sk-text-repr-fallback {display: none;}</style><div id=\"sk-container-id-3\" class=\"sk-top-container\"><div class=\"sk-text-repr-fallback\"><pre>MultinomialNB()</pre><b>In a Jupyter environment, please rerun this cell to show the HTML representation or trust the notebook. <br />On GitHub, the HTML representation is unable to render, please try loading this page with nbviewer.org.</b></div><div class=\"sk-container\" hidden><div class=\"sk-item\"><div class=\"sk-estimator sk-toggleable\"><input class=\"sk-toggleable__control sk-hidden--visually\" id=\"sk-estimator-id-3\" type=\"checkbox\" checked><label for=\"sk-estimator-id-3\" class=\"sk-toggleable__label sk-toggleable__label-arrow\">MultinomialNB</label><div class=\"sk-toggleable__content\"><pre>MultinomialNB()</pre></div></div></div></div></div>"
            ]
          },
          "metadata": {},
          "execution_count": 24
        }
      ]
    },
    {
      "cell_type": "code",
      "source": [
        "spam_detect_model_cnb = model_cnb.fit(X_train, y_train)\n",
        "spam_detect_model_cnb"
      ],
      "metadata": {
        "colab": {
          "base_uri": "https://localhost:8080/",
          "height": 75
        },
        "id": "baVLf7_6yj1I",
        "outputId": "1b8fda32-1725-4f7b-f97c-e0d38a939874"
      },
      "execution_count": null,
      "outputs": [
        {
          "output_type": "execute_result",
          "data": {
            "text/plain": [
              "ComplementNB()"
            ],
            "text/html": [
              "<style>#sk-container-id-4 {color: black;background-color: white;}#sk-container-id-4 pre{padding: 0;}#sk-container-id-4 div.sk-toggleable {background-color: white;}#sk-container-id-4 label.sk-toggleable__label {cursor: pointer;display: block;width: 100%;margin-bottom: 0;padding: 0.3em;box-sizing: border-box;text-align: center;}#sk-container-id-4 label.sk-toggleable__label-arrow:before {content: \"▸\";float: left;margin-right: 0.25em;color: #696969;}#sk-container-id-4 label.sk-toggleable__label-arrow:hover:before {color: black;}#sk-container-id-4 div.sk-estimator:hover label.sk-toggleable__label-arrow:before {color: black;}#sk-container-id-4 div.sk-toggleable__content {max-height: 0;max-width: 0;overflow: hidden;text-align: left;background-color: #f0f8ff;}#sk-container-id-4 div.sk-toggleable__content pre {margin: 0.2em;color: black;border-radius: 0.25em;background-color: #f0f8ff;}#sk-container-id-4 input.sk-toggleable__control:checked~div.sk-toggleable__content {max-height: 200px;max-width: 100%;overflow: auto;}#sk-container-id-4 input.sk-toggleable__control:checked~label.sk-toggleable__label-arrow:before {content: \"▾\";}#sk-container-id-4 div.sk-estimator input.sk-toggleable__control:checked~label.sk-toggleable__label {background-color: #d4ebff;}#sk-container-id-4 div.sk-label input.sk-toggleable__control:checked~label.sk-toggleable__label {background-color: #d4ebff;}#sk-container-id-4 input.sk-hidden--visually {border: 0;clip: rect(1px 1px 1px 1px);clip: rect(1px, 1px, 1px, 1px);height: 1px;margin: -1px;overflow: hidden;padding: 0;position: absolute;width: 1px;}#sk-container-id-4 div.sk-estimator {font-family: monospace;background-color: #f0f8ff;border: 1px dotted black;border-radius: 0.25em;box-sizing: border-box;margin-bottom: 0.5em;}#sk-container-id-4 div.sk-estimator:hover {background-color: #d4ebff;}#sk-container-id-4 div.sk-parallel-item::after {content: \"\";width: 100%;border-bottom: 1px solid gray;flex-grow: 1;}#sk-container-id-4 div.sk-label:hover label.sk-toggleable__label {background-color: #d4ebff;}#sk-container-id-4 div.sk-serial::before {content: \"\";position: absolute;border-left: 1px solid gray;box-sizing: border-box;top: 0;bottom: 0;left: 50%;z-index: 0;}#sk-container-id-4 div.sk-serial {display: flex;flex-direction: column;align-items: center;background-color: white;padding-right: 0.2em;padding-left: 0.2em;position: relative;}#sk-container-id-4 div.sk-item {position: relative;z-index: 1;}#sk-container-id-4 div.sk-parallel {display: flex;align-items: stretch;justify-content: center;background-color: white;position: relative;}#sk-container-id-4 div.sk-item::before, #sk-container-id-4 div.sk-parallel-item::before {content: \"\";position: absolute;border-left: 1px solid gray;box-sizing: border-box;top: 0;bottom: 0;left: 50%;z-index: -1;}#sk-container-id-4 div.sk-parallel-item {display: flex;flex-direction: column;z-index: 1;position: relative;background-color: white;}#sk-container-id-4 div.sk-parallel-item:first-child::after {align-self: flex-end;width: 50%;}#sk-container-id-4 div.sk-parallel-item:last-child::after {align-self: flex-start;width: 50%;}#sk-container-id-4 div.sk-parallel-item:only-child::after {width: 0;}#sk-container-id-4 div.sk-dashed-wrapped {border: 1px dashed gray;margin: 0 0.4em 0.5em 0.4em;box-sizing: border-box;padding-bottom: 0.4em;background-color: white;}#sk-container-id-4 div.sk-label label {font-family: monospace;font-weight: bold;display: inline-block;line-height: 1.2em;}#sk-container-id-4 div.sk-label-container {text-align: center;}#sk-container-id-4 div.sk-container {/* jupyter's `normalize.less` sets `[hidden] { display: none; }` but bootstrap.min.css set `[hidden] { display: none !important; }` so we also need the `!important` here to be able to override the default hidden behavior on the sphinx rendered scikit-learn.org. See: https://github.com/scikit-learn/scikit-learn/issues/21755 */display: inline-block !important;position: relative;}#sk-container-id-4 div.sk-text-repr-fallback {display: none;}</style><div id=\"sk-container-id-4\" class=\"sk-top-container\"><div class=\"sk-text-repr-fallback\"><pre>ComplementNB()</pre><b>In a Jupyter environment, please rerun this cell to show the HTML representation or trust the notebook. <br />On GitHub, the HTML representation is unable to render, please try loading this page with nbviewer.org.</b></div><div class=\"sk-container\" hidden><div class=\"sk-item\"><div class=\"sk-estimator sk-toggleable\"><input class=\"sk-toggleable__control sk-hidden--visually\" id=\"sk-estimator-id-4\" type=\"checkbox\" checked><label for=\"sk-estimator-id-4\" class=\"sk-toggleable__label sk-toggleable__label-arrow\">ComplementNB</label><div class=\"sk-toggleable__content\"><pre>ComplementNB()</pre></div></div></div></div></div>"
            ]
          },
          "metadata": {},
          "execution_count": 25
        }
      ]
    },
    {
      "cell_type": "code",
      "source": [
        "spam_detect_model_bnb = model_bnb.fit(X_train, y_train)\n",
        "spam_detect_model_bnb"
      ],
      "metadata": {
        "colab": {
          "base_uri": "https://localhost:8080/",
          "height": 75
        },
        "id": "tbcxbZIE48V2",
        "outputId": "96027b98-2fda-4c98-c7b0-cfa8ba065e37"
      },
      "execution_count": null,
      "outputs": [
        {
          "output_type": "execute_result",
          "data": {
            "text/plain": [
              "BernoulliNB()"
            ],
            "text/html": [
              "<style>#sk-container-id-5 {color: black;background-color: white;}#sk-container-id-5 pre{padding: 0;}#sk-container-id-5 div.sk-toggleable {background-color: white;}#sk-container-id-5 label.sk-toggleable__label {cursor: pointer;display: block;width: 100%;margin-bottom: 0;padding: 0.3em;box-sizing: border-box;text-align: center;}#sk-container-id-5 label.sk-toggleable__label-arrow:before {content: \"▸\";float: left;margin-right: 0.25em;color: #696969;}#sk-container-id-5 label.sk-toggleable__label-arrow:hover:before {color: black;}#sk-container-id-5 div.sk-estimator:hover label.sk-toggleable__label-arrow:before {color: black;}#sk-container-id-5 div.sk-toggleable__content {max-height: 0;max-width: 0;overflow: hidden;text-align: left;background-color: #f0f8ff;}#sk-container-id-5 div.sk-toggleable__content pre {margin: 0.2em;color: black;border-radius: 0.25em;background-color: #f0f8ff;}#sk-container-id-5 input.sk-toggleable__control:checked~div.sk-toggleable__content {max-height: 200px;max-width: 100%;overflow: auto;}#sk-container-id-5 input.sk-toggleable__control:checked~label.sk-toggleable__label-arrow:before {content: \"▾\";}#sk-container-id-5 div.sk-estimator input.sk-toggleable__control:checked~label.sk-toggleable__label {background-color: #d4ebff;}#sk-container-id-5 div.sk-label input.sk-toggleable__control:checked~label.sk-toggleable__label {background-color: #d4ebff;}#sk-container-id-5 input.sk-hidden--visually {border: 0;clip: rect(1px 1px 1px 1px);clip: rect(1px, 1px, 1px, 1px);height: 1px;margin: -1px;overflow: hidden;padding: 0;position: absolute;width: 1px;}#sk-container-id-5 div.sk-estimator {font-family: monospace;background-color: #f0f8ff;border: 1px dotted black;border-radius: 0.25em;box-sizing: border-box;margin-bottom: 0.5em;}#sk-container-id-5 div.sk-estimator:hover {background-color: #d4ebff;}#sk-container-id-5 div.sk-parallel-item::after {content: \"\";width: 100%;border-bottom: 1px solid gray;flex-grow: 1;}#sk-container-id-5 div.sk-label:hover label.sk-toggleable__label {background-color: #d4ebff;}#sk-container-id-5 div.sk-serial::before {content: \"\";position: absolute;border-left: 1px solid gray;box-sizing: border-box;top: 0;bottom: 0;left: 50%;z-index: 0;}#sk-container-id-5 div.sk-serial {display: flex;flex-direction: column;align-items: center;background-color: white;padding-right: 0.2em;padding-left: 0.2em;position: relative;}#sk-container-id-5 div.sk-item {position: relative;z-index: 1;}#sk-container-id-5 div.sk-parallel {display: flex;align-items: stretch;justify-content: center;background-color: white;position: relative;}#sk-container-id-5 div.sk-item::before, #sk-container-id-5 div.sk-parallel-item::before {content: \"\";position: absolute;border-left: 1px solid gray;box-sizing: border-box;top: 0;bottom: 0;left: 50%;z-index: -1;}#sk-container-id-5 div.sk-parallel-item {display: flex;flex-direction: column;z-index: 1;position: relative;background-color: white;}#sk-container-id-5 div.sk-parallel-item:first-child::after {align-self: flex-end;width: 50%;}#sk-container-id-5 div.sk-parallel-item:last-child::after {align-self: flex-start;width: 50%;}#sk-container-id-5 div.sk-parallel-item:only-child::after {width: 0;}#sk-container-id-5 div.sk-dashed-wrapped {border: 1px dashed gray;margin: 0 0.4em 0.5em 0.4em;box-sizing: border-box;padding-bottom: 0.4em;background-color: white;}#sk-container-id-5 div.sk-label label {font-family: monospace;font-weight: bold;display: inline-block;line-height: 1.2em;}#sk-container-id-5 div.sk-label-container {text-align: center;}#sk-container-id-5 div.sk-container {/* jupyter's `normalize.less` sets `[hidden] { display: none; }` but bootstrap.min.css set `[hidden] { display: none !important; }` so we also need the `!important` here to be able to override the default hidden behavior on the sphinx rendered scikit-learn.org. See: https://github.com/scikit-learn/scikit-learn/issues/21755 */display: inline-block !important;position: relative;}#sk-container-id-5 div.sk-text-repr-fallback {display: none;}</style><div id=\"sk-container-id-5\" class=\"sk-top-container\"><div class=\"sk-text-repr-fallback\"><pre>BernoulliNB()</pre><b>In a Jupyter environment, please rerun this cell to show the HTML representation or trust the notebook. <br />On GitHub, the HTML representation is unable to render, please try loading this page with nbviewer.org.</b></div><div class=\"sk-container\" hidden><div class=\"sk-item\"><div class=\"sk-estimator sk-toggleable\"><input class=\"sk-toggleable__control sk-hidden--visually\" id=\"sk-estimator-id-5\" type=\"checkbox\" checked><label for=\"sk-estimator-id-5\" class=\"sk-toggleable__label sk-toggleable__label-arrow\">BernoulliNB</label><div class=\"sk-toggleable__content\"><pre>BernoulliNB()</pre></div></div></div></div></div>"
            ]
          },
          "metadata": {},
          "execution_count": 26
        }
      ]
    },
    {
      "cell_type": "code",
      "source": [
        "spam_detect_model_catnb = model_catnb.fit(X_train, y_train)\n",
        "spam_detect_model_catnb"
      ],
      "metadata": {
        "colab": {
          "base_uri": "https://localhost:8080/",
          "height": 75
        },
        "id": "ntQfE6mE8v1u",
        "outputId": "20df8c99-b7b3-41ee-e008-d0ed8609be99"
      },
      "execution_count": null,
      "outputs": [
        {
          "output_type": "execute_result",
          "data": {
            "text/plain": [
              "CategoricalNB()"
            ],
            "text/html": [
              "<style>#sk-container-id-6 {color: black;background-color: white;}#sk-container-id-6 pre{padding: 0;}#sk-container-id-6 div.sk-toggleable {background-color: white;}#sk-container-id-6 label.sk-toggleable__label {cursor: pointer;display: block;width: 100%;margin-bottom: 0;padding: 0.3em;box-sizing: border-box;text-align: center;}#sk-container-id-6 label.sk-toggleable__label-arrow:before {content: \"▸\";float: left;margin-right: 0.25em;color: #696969;}#sk-container-id-6 label.sk-toggleable__label-arrow:hover:before {color: black;}#sk-container-id-6 div.sk-estimator:hover label.sk-toggleable__label-arrow:before {color: black;}#sk-container-id-6 div.sk-toggleable__content {max-height: 0;max-width: 0;overflow: hidden;text-align: left;background-color: #f0f8ff;}#sk-container-id-6 div.sk-toggleable__content pre {margin: 0.2em;color: black;border-radius: 0.25em;background-color: #f0f8ff;}#sk-container-id-6 input.sk-toggleable__control:checked~div.sk-toggleable__content {max-height: 200px;max-width: 100%;overflow: auto;}#sk-container-id-6 input.sk-toggleable__control:checked~label.sk-toggleable__label-arrow:before {content: \"▾\";}#sk-container-id-6 div.sk-estimator input.sk-toggleable__control:checked~label.sk-toggleable__label {background-color: #d4ebff;}#sk-container-id-6 div.sk-label input.sk-toggleable__control:checked~label.sk-toggleable__label {background-color: #d4ebff;}#sk-container-id-6 input.sk-hidden--visually {border: 0;clip: rect(1px 1px 1px 1px);clip: rect(1px, 1px, 1px, 1px);height: 1px;margin: -1px;overflow: hidden;padding: 0;position: absolute;width: 1px;}#sk-container-id-6 div.sk-estimator {font-family: monospace;background-color: #f0f8ff;border: 1px dotted black;border-radius: 0.25em;box-sizing: border-box;margin-bottom: 0.5em;}#sk-container-id-6 div.sk-estimator:hover {background-color: #d4ebff;}#sk-container-id-6 div.sk-parallel-item::after {content: \"\";width: 100%;border-bottom: 1px solid gray;flex-grow: 1;}#sk-container-id-6 div.sk-label:hover label.sk-toggleable__label {background-color: #d4ebff;}#sk-container-id-6 div.sk-serial::before {content: \"\";position: absolute;border-left: 1px solid gray;box-sizing: border-box;top: 0;bottom: 0;left: 50%;z-index: 0;}#sk-container-id-6 div.sk-serial {display: flex;flex-direction: column;align-items: center;background-color: white;padding-right: 0.2em;padding-left: 0.2em;position: relative;}#sk-container-id-6 div.sk-item {position: relative;z-index: 1;}#sk-container-id-6 div.sk-parallel {display: flex;align-items: stretch;justify-content: center;background-color: white;position: relative;}#sk-container-id-6 div.sk-item::before, #sk-container-id-6 div.sk-parallel-item::before {content: \"\";position: absolute;border-left: 1px solid gray;box-sizing: border-box;top: 0;bottom: 0;left: 50%;z-index: -1;}#sk-container-id-6 div.sk-parallel-item {display: flex;flex-direction: column;z-index: 1;position: relative;background-color: white;}#sk-container-id-6 div.sk-parallel-item:first-child::after {align-self: flex-end;width: 50%;}#sk-container-id-6 div.sk-parallel-item:last-child::after {align-self: flex-start;width: 50%;}#sk-container-id-6 div.sk-parallel-item:only-child::after {width: 0;}#sk-container-id-6 div.sk-dashed-wrapped {border: 1px dashed gray;margin: 0 0.4em 0.5em 0.4em;box-sizing: border-box;padding-bottom: 0.4em;background-color: white;}#sk-container-id-6 div.sk-label label {font-family: monospace;font-weight: bold;display: inline-block;line-height: 1.2em;}#sk-container-id-6 div.sk-label-container {text-align: center;}#sk-container-id-6 div.sk-container {/* jupyter's `normalize.less` sets `[hidden] { display: none; }` but bootstrap.min.css set `[hidden] { display: none !important; }` so we also need the `!important` here to be able to override the default hidden behavior on the sphinx rendered scikit-learn.org. See: https://github.com/scikit-learn/scikit-learn/issues/21755 */display: inline-block !important;position: relative;}#sk-container-id-6 div.sk-text-repr-fallback {display: none;}</style><div id=\"sk-container-id-6\" class=\"sk-top-container\"><div class=\"sk-text-repr-fallback\"><pre>CategoricalNB()</pre><b>In a Jupyter environment, please rerun this cell to show the HTML representation or trust the notebook. <br />On GitHub, the HTML representation is unable to render, please try loading this page with nbviewer.org.</b></div><div class=\"sk-container\" hidden><div class=\"sk-item\"><div class=\"sk-estimator sk-toggleable\"><input class=\"sk-toggleable__control sk-hidden--visually\" id=\"sk-estimator-id-6\" type=\"checkbox\" checked><label for=\"sk-estimator-id-6\" class=\"sk-toggleable__label sk-toggleable__label-arrow\">CategoricalNB</label><div class=\"sk-toggleable__content\"><pre>CategoricalNB()</pre></div></div></div></div></div>"
            ]
          },
          "metadata": {},
          "execution_count": 27
        }
      ]
    },
    {
      "cell_type": "markdown",
      "source": [
        "# Model Evaluation\n",
        "- gnb\n",
        "- mnb\n",
        "- cnb\n",
        "- bmb\n",
        "- catnb"
      ],
      "metadata": {
        "id": "Se0rWs4czm2Q"
      }
    },
    {
      "cell_type": "markdown",
      "source": [
        "## - Gnb\n",
        "- Continuous Feature Support: Gaussian Naive Bayes is well-suited for datasets where the features are continuous and assumed to follow a Gaussian distribution.\n",
        "- Gaussian Naive Bayes is not specifically designed for text data."
      ],
      "metadata": {
        "id": "63GqXI8Bs5JJ"
      }
    },
    {
      "cell_type": "code",
      "source": [
        "from sklearn.metrics import accuracy_score, confusion_matrix, ConfusionMatrixDisplay, f1_score, classification_report, precision_score"
      ],
      "metadata": {
        "id": "GRHMOKeizhFm"
      },
      "execution_count": null,
      "outputs": []
    },
    {
      "cell_type": "code",
      "source": [
        "y_pred = spam_detect_model_gnb.predict(X_test)\n",
        "y_pred"
      ],
      "metadata": {
        "colab": {
          "base_uri": "https://localhost:8080/"
        },
        "id": "bZWBu6xvz6H-",
        "outputId": "561642ca-6f74-435d-99cb-862442c6832b"
      },
      "execution_count": null,
      "outputs": [
        {
          "output_type": "execute_result",
          "data": {
            "text/plain": [
              "array([0, 1, 0, ..., 0, 1, 1], dtype=uint8)"
            ]
          },
          "metadata": {},
          "execution_count": 34
        }
      ]
    },
    {
      "cell_type": "code",
      "source": [
        "accuracy = accuracy_score(y_pred, y_test)\n",
        "print(f\"Accuracy: {accuracy}\")"
      ],
      "metadata": {
        "colab": {
          "base_uri": "https://localhost:8080/"
        },
        "id": "YRYRyqJ40Oc5",
        "outputId": "3bf5784b-3402-488c-9301-d767f9eba2ca"
      },
      "execution_count": null,
      "outputs": [
        {
          "output_type": "stream",
          "name": "stdout",
          "text": [
            "Accuracy: 0.8681614349775785\n"
          ]
        }
      ]
    },
    {
      "cell_type": "code",
      "source": [
        "\"\"\" y_pred = [1, 0, 1, 1, 0, 0, 1, 0, 1, 0]\n",
        "    y_test = [1, 1, 0, 1, 0, 0, 1, 0, 0, 1]\n",
        "To calculate the F1 score for each class using the default \"binary\" averaging method:\n",
        "how you get true is are ?\n",
        "\n",
        "Class 1 (Positive class):\n",
        "True positives  (TP) = 3 in y_pred and y_test on both places 1 is present that's y acounted as 3\n",
        "True Negative   (TN) = 3 in y_pred and y_test on both places 0 is present that's y acounted as 3\n",
        "False positives (FP) = 2 in y_pred the array show 1  and y_test array show 0 on the same index that's y acounted as 2\n",
        "False negatives (FN) = 2 in y_pred the array show 0  and y_test array show 1 on the same index that's y acounted as 2\n",
        "\n",
        "Precision = TP / (TP + FP) = 3 / (3 + 2) = 0.6\n",
        "Recall = TP / (TP + FN) = 3 / (3 + 1) = 0.75\n",
        "F1 score = 2 * (Precision * Recall) / (Precision + Recall) = 2 * (0.6 * 0.75) / (0.6 + 0.75) = 0.6667\n",
        "\n",
        "Class 0 (Negative class):\n",
        "True positives (TP) = 2\n",
        "False positives (FP) = 1\n",
        "False negatives (FN) = 2\n",
        "\n",
        "Precision = TP / (TP + FP) = 2 / (2 + 1) = 0.6667\n",
        "Recall = TP / (TP + FN) = 2 / (2 + 2) = 0.5\n",
        "F1 score = 2 * (Precision * Recall) / (Precision + Recall) = 2 * (0.6667 * 0.5) / (0.6667 + 0.5) = 0.5714\n",
        "To calculate the average F1 score using the \"binary\" averaging method:\n",
        "\n",
        "Average F1 score = (F1_score_positive + F1_score_negative) / 2\n",
        "Substituting the values, we get:\n",
        "Average F1 score = (0.6667 + 0.5714) / 2 = 0.619\n",
        "Therefore, in this example, the default \"binary\" averaging method computes the F1 score separately for each class (Positive and Negative) and then calculates\n",
        "the average F1 score. The average F1 score gives equal weight to both classes, irrespective of their support or imbalance in the dataset.\"\"\""
      ],
      "metadata": {
        "colab": {
          "base_uri": "https://localhost:8080/",
          "height": 174
        },
        "id": "fpI2oEuVKFeZ",
        "outputId": "9e87f035-8ed2-4c02-960f-3adb82147a9c"
      },
      "execution_count": null,
      "outputs": [
        {
          "output_type": "execute_result",
          "data": {
            "text/plain": [
              "' y_pred = [1, 0, 1, 1, 0, 0, 1, 0, 1, 0]\\n    y_test = [1, 1, 0, 1, 0, 0, 1, 0, 0, 1]\\nTo calculate the F1 score for each class using the default \"binary\" averaging method:\\nhow you get true is are ?\\n\\nClass 1 (Positive class):\\nTrue positives  (TP) = 3 in y_pred and y_test on both places 1 is present that\\'s y acounted as 3\\nTrue Negative   (TN) = 3 in y_pred and y_test on both places 0 is present that\\'s y acounted as 3\\nFalse positives (FP) = 2 in y_pred the array show 1  and y_test array show 0 on the same index that\\'s y acounted as 2\\nFalse negatives (FN) = 2 in y_pred the array show 0  and y_test array show 1 on the same index that\\'s y acounted as 2\\n\\nPrecision = TP / (TP + FP) = 3 / (3 + 2) = 0.6\\nRecall = TP / (TP + FN) = 3 / (3 + 1) = 0.75\\nF1 score = 2 * (Precision * Recall) / (Precision + Recall) = 2 * (0.6 * 0.75) / (0.6 + 0.75) = 0.6667\\n\\nClass 0 (Negative class):\\nTrue positives (TP) = 2\\nFalse positives (FP) = 1\\nFalse negatives (FN) = 2\\n\\nPrecision = TP / (TP + FP) = 2 / (2 + 1) = 0.6667\\nRecall = TP / (TP + FN) = 2 / (2 + 2) = 0.5\\nF1 score = 2 * (Precision * Recall) / (Precision + Recall) = 2 * (0.6667 * 0.5) / (0.6667 + 0.5) = 0.5714\\nTo calculate the average F1 score using the \"binary\" averaging method:\\n\\nAverage F1 score = (F1_score_positive + F1_score_negative) / 2\\nSubstituting the values, we get:\\nAverage F1 score = (0.6667 + 0.5714) / 2 = 0.619\\nTherefore, in this example, the default \"binary\" averaging method computes the F1 score separately for each class (Positive and Negative) and then calculates\\nthe average F1 score. The average F1 score gives equal weight to both classes, irrespective of their support or imbalance in the dataset.'"
            ],
            "application/vnd.google.colaboratory.intrinsic+json": {
              "type": "string"
            }
          },
          "metadata": {},
          "execution_count": 36
        }
      ]
    },
    {
      "cell_type": "code",
      "source": [
        "# f1 = f1_score(y_pred, y_test)\n",
        "# \"\"\"By default, the f1_score function uses the \"binary\" averaging method,\n",
        "# which computes the F1 score separately for each class and then calculates the average.\"\"\"\n",
        "# print(f\"f1_score: {f1}\")"
      ],
      "metadata": {
        "id": "C-GKK5mh0Axq"
      },
      "execution_count": null,
      "outputs": []
    },
    {
      "cell_type": "code",
      "source": [
        "\"\"\"The \"weighted\" averaging method calculates the weighted average F1 score by considering the F1 score for each class and weighting it by the number of\n",
        "samples in that class. This is particularly useful when dealing with imbalanced datasets, where some classes have significantly more instances than others.\"\"\""
      ],
      "metadata": {
        "colab": {
          "base_uri": "https://localhost:8080/",
          "height": 70
        },
        "id": "-WugQXACG71j",
        "outputId": "34c50a9a-9d09-4d0b-fe29-fdc058aea64e"
      },
      "execution_count": null,
      "outputs": [
        {
          "output_type": "execute_result",
          "data": {
            "text/plain": [
              "'The \"weighted\" averaging method calculates the weighted average F1 score by considering the F1 score for each class and weighting it by the number of \\nsamples in that class. This is particularly useful when dealing with imbalanced datasets, where some classes have significantly more instances than others.'"
            ],
            "application/vnd.google.colaboratory.intrinsic+json": {
              "type": "string"
            }
          },
          "metadata": {},
          "execution_count": 38
        }
      ]
    },
    {
      "cell_type": "code",
      "source": [
        "f1 = f1_score(y_pred, y_test, average=\"weighted\")\n",
        "\"\"\"The \"weighted\" averaging method takes into account the support (the number of true instances) for each class and calculates the weighted average based on\n",
        " the number of samples in each class. This is useful when dealing with imbalanced datasets where some classes have significantly more instances than others.\n",
        " The weighted average F1 score gives more importance to the F1 scores of classes with larger support.\"\"\"\n",
        "print(f\"f1_score: {f1}\")"
      ],
      "metadata": {
        "colab": {
          "base_uri": "https://localhost:8080/"
        },
        "id": "xZSnJveN08zN",
        "outputId": "6629a951-5fe8-4b73-960b-de8a341f74f7"
      },
      "execution_count": null,
      "outputs": [
        {
          "output_type": "stream",
          "name": "stdout",
          "text": [
            "f1_score: 0.8543960433032044\n"
          ]
        }
      ]
    },
    {
      "cell_type": "code",
      "source": [
        "labels = [\"ham\", \"spam\"]\n",
        "cm = confusion_matrix(y_test, y_pred)\n",
        "print(f\"confusion_matrix: \\n{cm}\")"
      ],
      "metadata": {
        "colab": {
          "base_uri": "https://localhost:8080/"
        },
        "id": "Tnmersh_1ARe",
        "outputId": "6d10c6d7-c153-4a7d-d45d-42d2a7135be0"
      },
      "execution_count": null,
      "outputs": [
        {
          "output_type": "stream",
          "name": "stdout",
          "text": [
            "confusion_matrix: \n",
            "[[820 135]\n",
            " [ 12 148]]\n"
          ]
        }
      ]
    },
    {
      "cell_type": "code",
      "source": [
        "import matplotlib.pyplot as plt\n",
        "disp = ConfusionMatrixDisplay(confusion_matrix=cm, display_labels=labels)\n",
        "disp.plot()\n",
        "plt.show()"
      ],
      "metadata": {
        "colab": {
          "base_uri": "https://localhost:8080/",
          "height": 449
        },
        "id": "C97h1A-y1euM",
        "outputId": "208c0252-03e8-4bce-e282-aa3a791f2a87"
      },
      "execution_count": null,
      "outputs": [
        {
          "output_type": "display_data",
          "data": {
            "text/plain": [
              "<Figure size 640x480 with 2 Axes>"
            ],
            "image/png": "[encoded data removed]"
          },
          "metadata": {}
        }
      ]
    },
    {
      "cell_type": "code",
      "source": [
        "report = classification_report(y_test, y_pred)\n",
        "print(f\"report:{report}\")"
      ],
      "metadata": {
        "colab": {
          "base_uri": "https://localhost:8080/"
        },
        "id": "Y-bahI6v5OP1",
        "outputId": "b486174c-0102-4d4f-8dd6-00b912308799"
      },
      "execution_count": null,
      "outputs": [
        {
          "output_type": "stream",
          "name": "stdout",
          "text": [
            "report:              precision    recall  f1-score   support\n",
            "\n",
            "           0       0.99      0.86      0.92       955\n",
            "           1       0.52      0.93      0.67       160\n",
            "\n",
            "    accuracy                           0.87      1115\n",
            "   macro avg       0.75      0.89      0.79      1115\n",
            "weighted avg       0.92      0.87      0.88      1115\n",
            "\n"
          ]
        }
      ]
    },
    {
      "cell_type": "markdown",
      "source": [
        "## - MNB\n",
        "- MultinomialNB implements the naive Bayes algorithm for multinomially distributed data, and is one of the two classic naive Bayes variants used in text classification (where the data are typically represented as word vector counts, although tf-idf vectors are also known to work well in practice)"
      ],
      "metadata": {
        "id": "trxOgbQFrchZ"
      }
    },
    {
      "cell_type": "code",
      "source": [
        "y_pred = spam_detect_model_mnb.predict(X_test)\n",
        "y_pred"
      ],
      "metadata": {
        "colab": {
          "base_uri": "https://localhost:8080/"
        },
        "id": "WzgbmuA7rg5h",
        "outputId": "9d874d80-8747-4253-9a05-0c2f77827080"
      },
      "execution_count": null,
      "outputs": [
        {
          "output_type": "execute_result",
          "data": {
            "text/plain": [
              "array([0, 1, 0, ..., 0, 1, 0], dtype=uint8)"
            ]
          },
          "metadata": {},
          "execution_count": 43
        }
      ]
    },
    {
      "cell_type": "code",
      "source": [
        "accuray = accuracy_score(y_pred, y_test)\n",
        "print(f\"Accuracy: {accuray}\")"
      ],
      "metadata": {
        "colab": {
          "base_uri": "https://localhost:8080/"
        },
        "id": "M3RTDtdarxGY",
        "outputId": "48b7a221-fecb-4831-89a1-1553a74c6fd9"
      },
      "execution_count": null,
      "outputs": [
        {
          "output_type": "stream",
          "name": "stdout",
          "text": [
            "Accuracy: 0.9829596412556054\n"
          ]
        }
      ]
    },
    {
      "cell_type": "code",
      "source": [
        "f1 = f1_score(y_pred, y_test, average=\"weighted\")\n",
        "print(f\"f1_score: {f1}\")"
      ],
      "metadata": {
        "colab": {
          "base_uri": "https://localhost:8080/"
        },
        "id": "P9ueccfar4ip",
        "outputId": "f3217b2a-f1c7-446c-dae4-9a4a9059d940"
      },
      "execution_count": null,
      "outputs": [
        {
          "output_type": "stream",
          "name": "stdout",
          "text": [
            "f1_score: 0.9829818917892433\n"
          ]
        }
      ]
    },
    {
      "cell_type": "code",
      "source": [
        "labels = [\"ham\", \"spam\"]\n",
        "cm = confusion_matrix(y_test, y_pred)\n",
        "print(f\"confusion_matrix: \\n{cm}\")"
      ],
      "metadata": {
        "colab": {
          "base_uri": "https://localhost:8080/"
        },
        "id": "vPCkEkJmsKUR",
        "outputId": "3a85a6c3-2edd-447d-ae9a-9b40d5150539"
      },
      "execution_count": null,
      "outputs": [
        {
          "output_type": "stream",
          "name": "stdout",
          "text": [
            "confusion_matrix: \n",
            "[[946   9]\n",
            " [ 10 150]]\n"
          ]
        }
      ]
    },
    {
      "cell_type": "code",
      "source": [
        "disp = ConfusionMatrixDisplay(confusion_matrix=cm, display_labels=labels)\n",
        "disp.plot()\n",
        "plt.show()"
      ],
      "metadata": {
        "colab": {
          "base_uri": "https://localhost:8080/"
        },
        "id": "9i61WlULsjFl",
        "outputId": "54769ca1-7ed5-46ed-d091-43a717db1c56"
      },
      "execution_count": null,
      "outputs": [
        {
          "output_type": "display_data",
          "data": {
            "text/plain": [
              "<Figure size 640x480 with 2 Axes>"
            ],
            "image/png": "[encoded data removed]"
          },
          "metadata": {}
        }
      ]
    },
    {
      "cell_type": "code",
      "source": [
        "report = classification_report(y_test, y_pred)\n",
        "print(f\"report:{report}\")"
      ],
      "metadata": {
        "colab": {
          "base_uri": "https://localhost:8080/"
        },
        "id": "JE7okdaksT1D",
        "outputId": "fd076f4c-47e3-4df8-cc8b-3259f1bb185c"
      },
      "execution_count": null,
      "outputs": [
        {
          "output_type": "stream",
          "name": "stdout",
          "text": [
            "report:              precision    recall  f1-score   support\n",
            "\n",
            "           0       0.99      0.99      0.99       955\n",
            "           1       0.94      0.94      0.94       160\n",
            "\n",
            "    accuracy                           0.98      1115\n",
            "   macro avg       0.97      0.96      0.97      1115\n",
            "weighted avg       0.98      0.98      0.98      1115\n",
            "\n"
          ]
        }
      ]
    },
    {
      "cell_type": "markdown",
      "source": [
        "## - Cnb\n",
        "- ComplementNB implements the complement naive Bayes (CNB) algorithm. CNB is an adaptation of the standard multinomial naive Bayes (MNB) algorithm that is particularly suited for imbalanced data sets.\n",
        "\n",
        "- Specifically, CNB uses statistics from the complement of each class to compute the model’s weights.\n",
        "\n",
        "- The inventors of CNB show empirically that the parameter estimates for CNB are more stable than those for MNB.\n",
        "\n",
        "- Adaptation of Multinomial Naive Bayes: CNB is an adaptation of the Multinomial Naive Bayes algorithm. It retains the simplicity and efficiency of the underlying Naive Bayes approach but introduces modifications that enhance its performance on imbalanced datasets. CNB builds upon the strengths of MNB and addresses its limitations in imbalanced scenarios\n",
        "\n",
        "- Broad Applicability: While CNB has shown excellent performance on text classification tasks, it is not limited to text data. It can be applied to other domains and datasets as well, especially when dealing with imbalanced class distributions. Its generalization beyond text classification makes it a versatile algorithm in various machine learning applications."
      ],
      "metadata": {
        "id": "HkcqG7THxAi_"
      }
    },
    {
      "cell_type": "code",
      "source": [
        "y_pred = spam_detect_model_cnb.predict(X_test)\n",
        "y_pred"
      ],
      "metadata": {
        "colab": {
          "base_uri": "https://localhost:8080/"
        },
        "id": "BDCIDdNtxDsj",
        "outputId": "c8f12f9b-596c-434a-c5be-29a27ab8b278"
      },
      "execution_count": null,
      "outputs": [
        {
          "output_type": "execute_result",
          "data": {
            "text/plain": [
              "array([0, 1, 0, ..., 0, 1, 0], dtype=uint8)"
            ]
          },
          "metadata": {},
          "execution_count": 49
        }
      ]
    },
    {
      "cell_type": "code",
      "source": [
        "accuray = accuracy_score(y_pred, y_test)\n",
        "print(f\"Accuracy: {accuray}\")"
      ],
      "metadata": {
        "colab": {
          "base_uri": "https://localhost:8080/"
        },
        "id": "h7uRRXfiz0sf",
        "outputId": "f20b770b-9ec7-4402-ba31-d65a1363c1a8"
      },
      "execution_count": null,
      "outputs": [
        {
          "output_type": "stream",
          "name": "stdout",
          "text": [
            "Accuracy: 0.9426008968609866\n"
          ]
        }
      ]
    },
    {
      "cell_type": "code",
      "source": [
        "f1 = f1_score(y_pred, y_test, average=\"weighted\")\n",
        "print(f\"f1_score: {f1}\")"
      ],
      "metadata": {
        "colab": {
          "base_uri": "https://localhost:8080/"
        },
        "id": "9kpSCTTU0JF9",
        "outputId": "3d7067ad-6902-4fce-911a-b3ac05c83c49"
      },
      "execution_count": null,
      "outputs": [
        {
          "output_type": "stream",
          "name": "stdout",
          "text": [
            "f1_score: 0.9395973151551414\n"
          ]
        }
      ]
    },
    {
      "cell_type": "code",
      "source": [
        "labels = [\"ham\", \"spam\"]\n",
        "cm = confusion_matrix(y_test, y_pred)\n",
        "print(f\"confusion_matrix: \\n{cm}\")"
      ],
      "metadata": {
        "colab": {
          "base_uri": "https://localhost:8080/"
        },
        "id": "B_-jX4JE0WeY",
        "outputId": "f2c38a63-6c7c-49b8-b719-50616e3a631c"
      },
      "execution_count": null,
      "outputs": [
        {
          "output_type": "stream",
          "name": "stdout",
          "text": [
            "confusion_matrix: \n",
            "[[899  56]\n",
            " [  8 152]]\n"
          ]
        }
      ]
    },
    {
      "cell_type": "code",
      "source": [
        "disp = ConfusionMatrixDisplay(confusion_matrix=cm, display_labels=labels)\n",
        "disp.plot()\n",
        "plt.show()"
      ],
      "metadata": {
        "colab": {
          "base_uri": "https://localhost:8080/",
          "height": 449
        },
        "id": "RvC_Jke_0jyJ",
        "outputId": "29f809d8-9049-4567-9a66-bc312610848a"
      },
      "execution_count": null,
      "outputs": [
        {
          "output_type": "display_data",
          "data": {
            "text/plain": [
              "<Figure size 640x480 with 2 Axes>"
            ],
            "image/png": "[encoded data removed]"
          },
          "metadata": {}
        }
      ]
    },
    {
      "cell_type": "code",
      "source": [
        "report = classification_report(y_test, y_pred)\n",
        "print(f\"report:{report}\")"
      ],
      "metadata": {
        "colab": {
          "base_uri": "https://localhost:8080/"
        },
        "id": "u9vnkAnd0sDD",
        "outputId": "ed1dadba-4e19-4fdb-a914-26857d8bc8e6"
      },
      "execution_count": null,
      "outputs": [
        {
          "output_type": "stream",
          "name": "stdout",
          "text": [
            "report:              precision    recall  f1-score   support\n",
            "\n",
            "           0       0.99      0.94      0.97       955\n",
            "           1       0.73      0.95      0.83       160\n",
            "\n",
            "    accuracy                           0.94      1115\n",
            "   macro avg       0.86      0.95      0.90      1115\n",
            "weighted avg       0.95      0.94      0.95      1115\n",
            "\n"
          ]
        }
      ]
    },
    {
      "cell_type": "markdown",
      "source": [
        "## - Bnb\n",
        "- BernoulliNB implements the naive Bayes training and classification algorithms for data that is distributed according to multivariate Bernoulli distributions; i.e., there may be multiple features but each one is assumed to be a binary-valued (Bernoulli, boolean) variable. Therefore, this class requires samples to be represented as binary-valued feature vectors; if handed any other kind of data, a BernoulliNB instance may binarize its input (depending on the binarize parameter).\n",
        "\n",
        "- **Bernoulli Naive Bayes is commonly used in text mining and document classification tasks, where binary features such as the presence or absence of words are used to classify documents into different categories. It can also be applied to other domains where the features can be represented as binary variables.**\n",
        "\n",
        "- **It's important to note that Bernoulli Naive Bayes may not be suitable for datasets with continuous or categorical features that do not follow a binary distribution. In such cases, other Naive Bayes variants like GaussianNB (for continuous features) or MultinomialNB (for discrete features) may be more appropriate.**\n",
        "\n",
        "- In the case of text classification, word occurrence vectors (rather than word count vectors) may be used to train and use this classifier. BernoulliNB might perform better on some datasets, especially those with shorter documents. It is advisable to evaluate both models, if time permits."
      ],
      "metadata": {
        "id": "Icgua6b15JDT"
      }
    },
    {
      "cell_type": "code",
      "source": [
        "y_pred = spam_detect_model_bnb.predict(X_test)\n",
        "y_pred"
      ],
      "metadata": {
        "colab": {
          "base_uri": "https://localhost:8080/"
        },
        "outputId": "b8cea2bb-0fd4-4db7-df60-3664d79d2a54",
        "id": "YVUFUnoP5JDg"
      },
      "execution_count": null,
      "outputs": [
        {
          "output_type": "execute_result",
          "data": {
            "text/plain": [
              "array([1, 1, 0, ..., 0, 1, 0], dtype=uint8)"
            ]
          },
          "metadata": {},
          "execution_count": 55
        }
      ]
    },
    {
      "cell_type": "code",
      "source": [
        "accuray = accuracy_score(y_pred, y_test)\n",
        "print(f\"Accuracy: {accuray}\")"
      ],
      "metadata": {
        "colab": {
          "base_uri": "https://localhost:8080/"
        },
        "outputId": "f7bf38dc-79dc-446f-924f-18aba4573b7d",
        "id": "2dw3LXX45JDh"
      },
      "execution_count": null,
      "outputs": [
        {
          "output_type": "stream",
          "name": "stdout",
          "text": [
            "Accuracy: 0.9811659192825112\n"
          ]
        }
      ]
    },
    {
      "cell_type": "code",
      "source": [
        "f1 = f1_score(y_pred, y_test, average=\"weighted\")\n",
        "print(f\"f1_score: {f1}\")"
      ],
      "metadata": {
        "colab": {
          "base_uri": "https://localhost:8080/"
        },
        "outputId": "34f8cafb-df48-44d9-a640-1f948dfac8fa",
        "id": "cq1lEVrN5JDj"
      },
      "execution_count": null,
      "outputs": [
        {
          "output_type": "stream",
          "name": "stdout",
          "text": [
            "f1_score: 0.9813942727558531\n"
          ]
        }
      ]
    },
    {
      "cell_type": "code",
      "source": [
        "labels = [\"ham\", \"spam\"]\n",
        "cm = confusion_matrix(y_test, y_pred)\n",
        "print(f\"confusion_matrix: \\n{cm}\")"
      ],
      "metadata": {
        "colab": {
          "base_uri": "https://localhost:8080/"
        },
        "outputId": "b0c9b23d-37a4-446e-a8b1-dcbbe8c8ca61",
        "id": "HCXJikDo5JDk"
      },
      "execution_count": null,
      "outputs": [
        {
          "output_type": "stream",
          "name": "stdout",
          "text": [
            "confusion_matrix: \n",
            "[[949   6]\n",
            " [ 15 145]]\n"
          ]
        }
      ]
    },
    {
      "cell_type": "code",
      "source": [
        "import matplotlib.pyplot as plt\n",
        "disp = ConfusionMatrixDisplay(confusion_matrix=cm, display_labels=labels)\n",
        "disp.plot()\n",
        "plt.show()"
      ],
      "metadata": {
        "colab": {
          "base_uri": "https://localhost:8080/",
          "height": 449
        },
        "outputId": "939040f8-3145-4a51-8a75-55dcabe20597",
        "id": "Dg9uQSpH5JDl"
      },
      "execution_count": null,
      "outputs": [
        {
          "output_type": "display_data",
          "data": {
            "text/plain": [
              "<Figure size 640x480 with 2 Axes>"
            ],
            "image/png": "[encoded data removed]"
          },
          "metadata": {}
        }
      ]
    },
    {
      "cell_type": "code",
      "source": [
        "report = classification_report(y_test, y_pred)\n",
        "print(f\"report:{report}\")"
      ],
      "metadata": {
        "colab": {
          "base_uri": "https://localhost:8080/"
        },
        "outputId": "793ac45c-f014-43db-deb0-afe444c6ffb2",
        "id": "aC0U7Dsp5JDl"
      },
      "execution_count": null,
      "outputs": [
        {
          "output_type": "stream",
          "name": "stdout",
          "text": [
            "report:              precision    recall  f1-score   support\n",
            "\n",
            "           0       0.98      0.99      0.99       955\n",
            "           1       0.96      0.91      0.93       160\n",
            "\n",
            "    accuracy                           0.98      1115\n",
            "   macro avg       0.97      0.95      0.96      1115\n",
            "weighted avg       0.98      0.98      0.98      1115\n",
            "\n"
          ]
        }
      ]
    },
    {
      "cell_type": "markdown",
      "source": [
        "## - CatNB\n",
        "- CategoricalNB implements the categorical naive Bayes algorithm for categorically distributed data. It assumes that each feature, which is described by the index , has its own categorical distribution.\n",
        "\n",
        "- Categorical Naive Bayes is useful when working with datasets where the features are categorical variables, such as text classification tasks with **word categories** or sentiment analysis with sentiment labels. It provides a probabilistic framework to handle categorically distributed data and make predictions based on the principles of Naive Bayes.\n",
        "\n",
        "- It's worth noting that there are other specialized algorithms for handling categorical data, such as decision trees, random forests, and gradient boosting machines, which can also be effective in modeling and predicting with categorical features."
      ],
      "metadata": {
        "id": "B0hUX9F-9lHu"
      }
    },
    {
      "cell_type": "code",
      "source": [
        "y_pred = spam_detect_model_catnb.predict(X_test)\n",
        "y_pred"
      ],
      "metadata": {
        "id": "GV2otQZ89lHv"
      },
      "execution_count": null,
      "outputs": []
    },
    {
      "cell_type": "code",
      "source": [
        "accuray = accuracy_score(y_pred, y_test)\n",
        "print(f\"Accuracy: {accuray}\")"
      ],
      "metadata": {
        "id": "uxJwKx6-9lHv"
      },
      "execution_count": null,
      "outputs": []
    },
    {
      "cell_type": "code",
      "source": [
        "f1 = f1_score(y_pred, y_test, average=\"weighted\")\n",
        "print(f\"f1_score: {f1}\")"
      ],
      "metadata": {
        "id": "jPUqxR1D9lHv"
      },
      "execution_count": null,
      "outputs": []
    },
    {
      "cell_type": "code",
      "source": [
        "labels = [\"ham\", \"spam\"]\n",
        "cm = confusion_matrix(y_test, y_pred)\n",
        "print(f\"confusion_matrix: \\n{cm}\")"
      ],
      "metadata": {
        "id": "YvbwFuQ59lHw"
      },
      "execution_count": null,
      "outputs": []
    },
    {
      "cell_type": "code",
      "source": [
        "disp = ConfusionMatrixDisplay(confusion_matrix=cm, display_labels=labels)\n",
        "disp.plot()\n",
        "plt.show()"
      ],
      "metadata": {
        "id": "cdtIUr4D9lHw"
      },
      "execution_count": null,
      "outputs": []
    },
    {
      "cell_type": "code",
      "source": [
        "report = classification_report(y_test, y_pred)\n",
        "print(f\"report:{report}\")"
      ],
      "metadata": {
        "id": "O1fjKHK39lHw"
      },
      "execution_count": null,
      "outputs": []
    },
    {
      "cell_type": "markdown",
      "source": [
        "# Summary\n",
        "- by the above theory of different algorithms of **Naive Bayes** we knew that **Gaussian Naive Bayes** is the least significant algorithm on text data among **Naive Bayes** algotithms.\n",
        "- meanwhile **Multinomial Naive Bayes** and **Bernoulli Naive Bayes** are highly recommended for text data however **Complement Naive Bayes** and **Categorical Naive Bayes** are also give good results but could not beat **Multinomial Naive Bayes** and **Bernoulli Naive Bayes**\n",
        "- **Here we try to proof that is it true or not**"
      ],
      "metadata": {
        "id": "O3mCTeJEaGl5"
      }
    },
    {
      "cell_type": "code",
      "source": [
        "def train_classifier(clf,X_train,y_train,X_test,y_test):\n",
        "    clf.fit(X_train,y_train)\n",
        "    y_pred = clf.predict(X_test)\n",
        "    accuracy = accuracy_score(y_test,y_pred)\n",
        "    precision = precision_score(y_test,y_pred)\n",
        "    f1 = f1_score(y_test, y_pred)\n",
        "\n",
        "    return accuracy,precision, f1\n",
        "train_classifier(model_gnb ,X_train,y_train,X_test,y_test)"
      ],
      "metadata": {
        "colab": {
          "base_uri": "https://localhost:8080/"
        },
        "id": "Xb-cm7haannU",
        "outputId": "6ecb306d-2100-4ef1-b1ba-d98b2799bc0a"
      },
      "execution_count": null,
      "outputs": [
        {
          "output_type": "execute_result",
          "data": {
            "text/plain": [
              "(0.8681614349775785, 0.5229681978798587, 0.6681715575620769)"
            ]
          },
          "metadata": {},
          "execution_count": 61
        }
      ]
    },
    {
      "cell_type": "code",
      "source": [
        "train_classifier(model_mnb ,X_train,y_train,X_test,y_test)"
      ],
      "metadata": {
        "colab": {
          "base_uri": "https://localhost:8080/"
        },
        "id": "4o-2tYBbbm6y",
        "outputId": "9532e590-80fc-468e-f246-d8b61ff8a2f1"
      },
      "execution_count": null,
      "outputs": [
        {
          "output_type": "execute_result",
          "data": {
            "text/plain": [
              "(0.9829596412556054, 0.9433962264150944, 0.9404388714733543)"
            ]
          },
          "metadata": {},
          "execution_count": 62
        }
      ]
    },
    {
      "cell_type": "code",
      "source": [
        "train_classifier(model_cnb,X_train,y_train,X_test,y_test)"
      ],
      "metadata": {
        "colab": {
          "base_uri": "https://localhost:8080/"
        },
        "id": "lphDiUL2bvmt",
        "outputId": "e1bbec45-d713-48de-e76d-fde4df16442b"
      },
      "execution_count": null,
      "outputs": [
        {
          "output_type": "execute_result",
          "data": {
            "text/plain": [
              "(0.9426008968609866, 0.7307692307692307, 0.8260869565217392)"
            ]
          },
          "metadata": {},
          "execution_count": 63
        }
      ]
    },
    {
      "cell_type": "code",
      "source": [
        "train_classifier(model_bnb,X_train,y_train,X_test,y_test)"
      ],
      "metadata": {
        "colab": {
          "base_uri": "https://localhost:8080/"
        },
        "id": "lKP352W9b94W",
        "outputId": "921b6cff-f3aa-40d6-be06-d78bb71c8255"
      },
      "execution_count": null,
      "outputs": [
        {
          "output_type": "execute_result",
          "data": {
            "text/plain": [
              "(0.9811659192825112, 0.9602649006622517, 0.932475884244373)"
            ]
          },
          "metadata": {},
          "execution_count": 64
        }
      ]
    },
    {
      "cell_type": "code",
      "source": [
        "accuracy_scores = []\n",
        "precision_scores = []\n",
        "f1_scores = []\n",
        "clfs = {    \"GaussianNB\":model_gnb,\n",
        "     \"MultinomialNB\":model_mnb,\n",
        "     \"ComplementN\":model_cnb,\n",
        "     \"BernoulliNB\":model_bnb  }\n",
        "\n",
        "for name,clf in clfs.items():\n",
        "\n",
        "    current_accuracy,current_precision,current_f1 = train_classifier(clf, X_train,y_train,X_test,y_test)\n",
        "\n",
        "    print(\"For \",name)\n",
        "    print(\"Accuracy - \",current_accuracy)\n",
        "    print(\"Precision - \",current_precision)\n",
        "    print(\"f1 - \", current_f1)\n",
        "    accuracy_scores.append(current_accuracy)\n",
        "    precision_scores.append(current_precision)\n",
        "    f1_scores.append(current_f1)"
      ],
      "metadata": {
        "colab": {
          "base_uri": "https://localhost:8080/"
        },
        "id": "TvpKoUnRaFCu",
        "outputId": "0f062105-31a9-446a-e8e5-21210d80cfa0"
      },
      "execution_count": null,
      "outputs": [
        {
          "output_type": "stream",
          "name": "stdout",
          "text": [
            "For  GaussianNB\n",
            "Accuracy -  0.8681614349775785\n",
            "Precision -  0.5229681978798587\n",
            "f1 -  0.6681715575620769\n",
            "For  MultinomialNB\n",
            "Accuracy -  0.9829596412556054\n",
            "Precision -  0.9433962264150944\n",
            "f1 -  0.9404388714733543\n",
            "For  ComplementN\n",
            "Accuracy -  0.9426008968609866\n",
            "Precision -  0.7307692307692307\n",
            "f1 -  0.8260869565217392\n",
            "For  BernoulliNB\n",
            "Accuracy -  0.9811659192825112\n",
            "Precision -  0.9602649006622517\n",
            "f1 -  0.932475884244373\n"
          ]
        }
      ]
    },
    {
      "cell_type": "code",
      "source": [
        "performance_df = pd.DataFrame({'Algorithm':clfs.keys(),'Accuracy':accuracy_scores,'Precision':precision_scores, 'F1':f1_scores}).sort_values('Precision',ascending=False)\n",
        "#accuracy_score, precision_score are lists\n",
        "performance_df\n",
        "# RF and SVC have high accuracy than NB but due to imbalance data NB has more value than other b/c precision is alsi high."
      ],
      "metadata": {
        "colab": {
          "base_uri": "https://localhost:8080/",
          "height": 175
        },
        "id": "vYRsJBAtdD2v",
        "outputId": "e6776e06-a2df-431a-edb6-79e987ee4123"
      },
      "execution_count": null,
      "outputs": [
        {
          "output_type": "execute_result",
          "data": {
            "text/plain": [
              "       Algorithm  Accuracy  Precision        F1\n",
              "3    BernoulliNB  0.981166   0.960265  0.932476\n",
              "1  MultinomialNB  0.982960   0.943396  0.940439\n",
              "2    ComplementN  0.942601   0.730769  0.826087\n",
              "0     GaussianNB  0.868161   0.522968  0.668172"
            ],
            "text/html": [
              "\n",
              "  <div id=\"df-c1fee3bd-7e48-41d1-9efc-d2d78d9af596\">\n",
              "    <div class=\"colab-df-container\">\n",
              "      <div>\n",
              "<style scoped>\n",
              "    .dataframe tbody tr th:only-of-type {\n",
              "        vertical-align: middle;\n",
              "    }\n",
              "\n",
              "    .dataframe tbody tr th {\n",
              "        vertical-align: top;\n",
              "    }\n",
              "\n",
              "    .dataframe thead th {\n",
              "        text-align: right;\n",
              "    }\n",
              "</style>\n",
              "<table border=\"1\" class=\"dataframe\">\n",
              "  <thead>\n",
              "    <tr style=\"text-align: right;\">\n",
              "      <th></th>\n",
              "      <th>Algorithm</th>\n",
              "      <th>Accuracy</th>\n",
              "      <th>Precision</th>\n",
              "      <th>F1</th>\n",
              "    </tr>\n",
              "  </thead>\n",
              "  <tbody>\n",
              "    <tr>\n",
              "      <th>3</th>\n",
              "      <td>BernoulliNB</td>\n",
              "      <td>0.981166</td>\n",
              "      <td>0.960265</td>\n",
              "      <td>0.932476</td>\n",
              "    </tr>\n",
              "    <tr>\n",
              "      <th>1</th>\n",
              "      <td>MultinomialNB</td>\n",
              "      <td>0.982960</td>\n",
              "      <td>0.943396</td>\n",
              "      <td>0.940439</td>\n",
              "    </tr>\n",
              "    <tr>\n",
              "      <th>2</th>\n",
              "      <td>ComplementN</td>\n",
              "      <td>0.942601</td>\n",
              "      <td>0.730769</td>\n",
              "      <td>0.826087</td>\n",
              "    </tr>\n",
              "    <tr>\n",
              "      <th>0</th>\n",
              "      <td>GaussianNB</td>\n",
              "      <td>0.868161</td>\n",
              "      <td>0.522968</td>\n",
              "      <td>0.668172</td>\n",
              "    </tr>\n",
              "  </tbody>\n",
              "</table>\n",
              "</div>\n",
              "      <button class=\"colab-df-convert\" onclick=\"convertToInteractive('df-c1fee3bd-7e48-41d1-9efc-d2d78d9af596')\"\n",
              "              title=\"Convert this dataframe to an interactive table.\"\n",
              "              style=\"display:none;\">\n",
              "        \n",
              "  <svg xmlns=\"http://www.w3.org/2000/svg\" height=\"24px\"viewBox=\"0 0 24 24\"\n",
              "       width=\"24px\">\n",
              "    <path d=\"M0 0h24v24H0V0z\" fill=\"none\"/>\n",
              "    <path d=\"M18.56 5.44l.94 2.06.94-2.06 2.06-.94-2.06-.94-.94-2.06-.94 2.06-2.06.94zm-11 1L8.5 8.5l.94-2.06 2.06-.94-2.06-.94L8.5 2.5l-.94 2.06-2.06.94zm10 10l.94 2.06.94-2.06 2.06-.94-2.06-.94-.94-2.06-.94 2.06-2.06.94z\"/><path d=\"M17.41 7.96l-1.37-1.37c-.4-.4-.92-.59-1.43-.59-.52 0-1.04.2-1.43.59L10.3 9.45l-7.72 7.72c-.78.78-.78 2.05 0 2.83L4 21.41c.39.39.9.59 1.41.59.51 0 1.02-.2 1.41-.59l7.78-7.78 2.81-2.81c.8-.78.8-2.07 0-2.86zM5.41 20L4 18.59l7.72-7.72 1.47 1.35L5.41 20z\"/>\n",
              "  </svg>\n",
              "      </button>\n",
              "      \n",
              "  <style>\n",
              "    .colab-df-container {\n",
              "      display:flex;\n",
              "      flex-wrap:wrap;\n",
              "      gap: 12px;\n",
              "    }\n",
              "\n",
              "    .colab-df-convert {\n",
              "      background-color: #E8F0FE;\n",
              "      border: none;\n",
              "      border-radius: 50%;\n",
              "      cursor: pointer;\n",
              "      display: none;\n",
              "      fill: #1967D2;\n",
              "      height: 32px;\n",
              "      padding: 0 0 0 0;\n",
              "      width: 32px;\n",
              "    }\n",
              "\n",
              "    .colab-df-convert:hover {\n",
              "      background-color: #E2EBFA;\n",
              "      box-shadow: 0px 1px 2px rgba(60, 64, 67, 0.3), 0px 1px 3px 1px rgba(60, 64, 67, 0.15);\n",
              "      fill: #174EA6;\n",
              "    }\n",
              "\n",
              "    [theme=dark] .colab-df-convert {\n",
              "      background-color: #3B4455;\n",
              "      fill: #D2E3FC;\n",
              "    }\n",
              "\n",
              "    [theme=dark] .colab-df-convert:hover {\n",
              "      background-color: #434B5C;\n",
              "      box-shadow: 0px 1px 3px 1px rgba(0, 0, 0, 0.15);\n",
              "      filter: drop-shadow(0px 1px 2px rgba(0, 0, 0, 0.3));\n",
              "      fill: #FFFFFF;\n",
              "    }\n",
              "  </style>\n",
              "\n",
              "      <script>\n",
              "        const buttonEl =\n",
              "          document.querySelector('#df-c1fee3bd-7e48-41d1-9efc-d2d78d9af596 button.colab-df-convert');\n",
              "        buttonEl.style.display =\n",
              "          google.colab.kernel.accessAllowed ? 'block' : 'none';\n",
              "\n",
              "        async function convertToInteractive(key) {\n",
              "          const element = document.querySelector('#df-c1fee3bd-7e48-41d1-9efc-d2d78d9af596');\n",
              "          const dataTable =\n",
              "            await google.colab.kernel.invokeFunction('convertToInteractive',\n",
              "                                                     [key], {});\n",
              "          if (!dataTable) return;\n",
              "\n",
              "          const docLinkHtml = 'Like what you see? Visit the ' +\n",
              "            '<a target=\"_blank\" href=https://colab.research.google.com/notebooks/data_table.ipynb>data table notebook</a>'\n",
              "            + ' to learn more about interactive tables.';\n",
              "          element.innerHTML = '';\n",
              "          dataTable['output_type'] = 'display_data';\n",
              "          await google.colab.output.renderOutput(dataTable, element);\n",
              "          const docLink = document.createElement('div');\n",
              "          docLink.innerHTML = docLinkHtml;\n",
              "          element.appendChild(docLink);\n",
              "        }\n",
              "      </script>\n",
              "    </div>\n",
              "  </div>\n",
              "  "
            ]
          },
          "metadata": {},
          "execution_count": 66
        }
      ]
    },
    {
      "cell_type": "markdown",
      "source": [
        "# Advantages gnb\n",
        "- It is not only a simple approach but also a fast and accurate method for prediction.\n",
        "- Naive Bayes has a very low computation cost.\n",
        "- It can efficiently work on a large dataset.\n",
        "- It performs well in case of discrete response variable compared to the continuous variable.\n",
        "- It can be used with multiple class prediction problems.\n",
        "- It also performs well in the case of text analytics problems.\n",
        "When the assumption of independence holds, a Naive Bayes classifier performs better compared to other models like logistic regression.\n",
        "# Disadvantages gnb\n",
        "- The assumption of independent features. In practice, it is almost impossible that model will get a set of predictors which are entirely independent.\n",
        "- If there is no training tuple of a particular class, this causes zero posterior probability. In this case, the model is unable to make predictions. This problem is known as Zero Probability/Frequency Problem."
      ],
      "metadata": {
        "id": "gK4LytZVkLmr"
      }
    }
  ]
}