{
  "nbformat": 4,
  "nbformat_minor": 0,
  "metadata": {
    "colab": {
      "provenance": [],
      "authorship_tag": "ABX9TyOQsr+cMmTrONtPPwcRihDY",
      "include_colab_link": true
    },
    "kernelspec": {
      "name": "python3",
      "display_name": "Python 3"
    },
    "language_info": {
      "name": "python"
    }
  },
  "cells": [
    {
      "cell_type": "markdown",
      "metadata": {
        "id": "view-in-github",
        "colab_type": "text"
      },
      "source": [
        "<a href=\"https://colab.research.google.com/github/AtifQureshi110/NLP/blob/main/nltk.ipynb\" target=\"_parent\"><img src=\"https://colab.research.google.com/assets/colab-badge.svg\" alt=\"Open In Colab\"/></a>"
      ]
    },
    {
      "cell_type": "markdown",
      "source": [
        "NLTK (Natural Language Toolkit) is a leading platform for building Python programs to work with human language data. Its purpose in NLP tasks is to simplify complex text processing tasks like tokenization, POS tagging, stemming, and lemmatization, providing tools and methods to analyze, preprocess, and understand natural language data efficiently.\n"
      ],
      "metadata": {
        "id": "YuJdC6lL0Wcj"
      }
    },
    {
      "cell_type": "code",
      "source": [
        "import nltk\n",
        "nltk.download('punkt')\n",
        "\"\"\"nltk.download('punkt') downloads the Punkt tokenizer models used by NLTK for sentence tokenization,\n",
        "which breaks text into individual sentences.\"\"\""
      ],
      "metadata": {
        "colab": {
          "base_uri": "https://localhost:8080/"
        },
        "id": "EKgxT9uRvc1c",
        "outputId": "29228688-d42f-4668-938c-552e2dfe0fd6"
      },
      "execution_count": 1,
      "outputs": [
        {
          "output_type": "stream",
          "name": "stderr",
          "text": [
            "[nltk_data] Downloading package punkt to /root/nltk_data...\n",
            "[nltk_data]   Unzipping tokenizers/punkt.zip.\n"
          ]
        },
        {
          "output_type": "execute_result",
          "data": {
            "text/plain": [
              "True"
            ]
          },
          "metadata": {},
          "execution_count": 1
        }
      ]
    },
    {
      "cell_type": "code",
      "source": [
        "nltk.download('stopwords')"
      ],
      "metadata": {
        "colab": {
          "base_uri": "https://localhost:8080/"
        },
        "id": "05PznebtveQl",
        "outputId": "183efd77-a0e6-464e-acee-0998495e569b"
      },
      "execution_count": 2,
      "outputs": [
        {
          "output_type": "stream",
          "name": "stderr",
          "text": [
            "[nltk_data] Downloading package stopwords to /root/nltk_data...\n",
            "[nltk_data]   Unzipping corpora/stopwords.zip.\n"
          ]
        },
        {
          "output_type": "execute_result",
          "data": {
            "text/plain": [
              "True"
            ]
          },
          "metadata": {},
          "execution_count": 2
        }
      ]
    },
    {
      "cell_type": "code",
      "execution_count": 3,
      "metadata": {
        "colab": {
          "base_uri": "https://localhost:8080/"
        },
        "id": "FTLHNA0wvUAU",
        "outputId": "dbcd12d3-8ef5-4704-cf1b-0d82c602bd3e"
      },
      "outputs": [
        {
          "output_type": "stream",
          "name": "stdout",
          "text": [
            "['muhammad ali jinnah play pivot role creation pakistan gain independ british rule august 14 jinnah lawyer politician advoc right muslim british india leader muslim leagu instrument negoti separ homeland muslim lead establish pakistan separ nation muslim jinnah serv pakistan first death highli rever pakistan effort achiev independ often refer muhammad ali jinnah']\n"
          ]
        }
      ],
      "source": [
        "import nltk\n",
        "from nltk.corpus import stopwords\n",
        "from nltk.stem import PorterStemmer\n",
        "import string\n",
        "# Initialize stemmer, stopwords, and punctuation\n",
        "stemmer = PorterStemmer()\n",
        "stop_words = set(stopwords.words('english'))\n",
        "punctuation = set(string.punctuation)\n",
        "# Your list of sentences\n",
        "sentences = [\"\"\"Muhammad Ali Jinnah played a pivotal role in the creation of Pakistan, which gained\n",
        "              independence from British rule on August 14, 1947.\n",
        "              Jinnah was a lawyer and politician who advocated for the rights of Muslims in British India.\n",
        "              He was the leader of the All-India Muslim League and was instrumental in negotiating for a\n",
        "              separate homeland for Muslims,\n",
        "              leading to the establishment of Pakistan as a separate nation for Muslims.\n",
        "              Jinnah served as Pakistan's first Governor-General until his death in 1948.\n",
        "              He is highly revered in Pakistan for his efforts in achieving independence and is often\n",
        "              referred to as Quaid-e-Azam Muhammad Ali Jinnah.\"\"\"]"
      ]
    },
    {
      "cell_type": "code",
      "source": [
        "# Initialize an empty list to store the cleaned sentences\n",
        "q = []\n",
        "for i in range(len(sentences)):\n",
        "    # Tokenize the sentence and convert to lowercase\n",
        "    words = nltk.word_tokenize(sentences[i].lower())\n",
        "    # Remove punctuation from words\n",
        "    words = [word for word in words if word not in punctuation]\n",
        "    # Stemming and filtering out stopwords\n",
        "    words = [stemmer.stem(word) for word in words if word not in stop_words and word.isalnum()]\n",
        "    # Join the words back into a sentence\n",
        "    cleaned_sentence = ' '.join(words)\n",
        "    # Append the cleaned sentence to the list\n",
        "    q.append(cleaned_sentence)\n",
        "print(q)"
      ],
      "metadata": {
        "id": "Ktmg9Eks21rA"
      },
      "execution_count": null,
      "outputs": []
    },
    {
      "cell_type": "code",
      "source": [
        "# Your list of sentences\n",
        "sentences = [\"\"\"Muhammad Ali Jinnah played a pivotal role in the creation of Pakistan, which gained\n",
        "              independence from British rule on August 14, 1947.\n",
        "              Jinnah was a lawyer and politician who advocated for the rights of Muslims in British India.\n",
        "              He was the leader of the All-India Muslim League and was instrumental in negotiating for a\n",
        "              separate homeland for Muslims,\n",
        "              leading to the establishment of Pakistan as a separate nation for Muslims.\n",
        "              Jinnah served as Pakistan's first Governor-General until his death in 1948.\n",
        "              He is highly revered in Pakistan for his efforts in achieving independence and is often\n",
        "              referred to as Quaid-e-Azam Muhammad Ali Jinnah.\"\"\"]\n",
        "\n",
        "print(sentences)"
      ],
      "metadata": {
        "colab": {
          "base_uri": "https://localhost:8080/"
        },
        "id": "RAGneDMWvkvH",
        "outputId": "e6db99da-6b83-4ba7-9fe0-db0474fb9552"
      },
      "execution_count": 4,
      "outputs": [
        {
          "output_type": "stream",
          "name": "stdout",
          "text": [
            "[\"Muhammad Ali Jinnah played a pivotal role in the creation of Pakistan, which gained independence from British rule on August 14, 1947.\\n              Jinnah was a lawyer and politician who advocated for the rights of Muslims in British India.\\n              He was the leader of the All-India Muslim League and was instrumental in negotiating for a separate homeland for Muslims,\\n             leading to the establishment of Pakistan as a separate nation for Muslims.\\n             Jinnah served as Pakistan's first Governor-General until his death in 1948.\\n              He is highly revered in Pakistan for his efforts in achieving independence and is often referred to as Quaid-e-Azam Muhammad Ali Jinnah.\"]\n"
          ]
        }
      ]
    },
    {
      "cell_type": "code",
      "source": [
        "nltk.download('wordnet')\n",
        "\"\"\"nltk.download('wordnet') downloads the WordNet database, which is a lexical database of English words.\n",
        "WordNet is often used in NLP for tasks like\n",
        "synonym generation, semantic similarity calculations, and lemmatization.\"\"\""
      ],
      "metadata": {
        "colab": {
          "base_uri": "https://localhost:8080/"
        },
        "id": "TpMaU-ozw7Je",
        "outputId": "92dfebf8-29e8-4eb8-c462-52631e12d264"
      },
      "execution_count": 6,
      "outputs": [
        {
          "output_type": "stream",
          "name": "stderr",
          "text": [
            "[nltk_data] Downloading package wordnet to /root/nltk_data...\n"
          ]
        },
        {
          "output_type": "execute_result",
          "data": {
            "text/plain": [
              "True"
            ]
          },
          "metadata": {},
          "execution_count": 6
        }
      ]
    },
    {
      "cell_type": "code",
      "source": [
        "import nltk\n",
        "from nltk.corpus import stopwords\n",
        "from nltk.stem import WordNetLemmatizer\n",
        "import string\n",
        "\n",
        "# Initialize lemmatizer, stopwords, and punctuation\n",
        "lemmatizer = WordNetLemmatizer()\n",
        "stop_words = set(stopwords.words('english'))\n",
        "punctuation = set(string.punctuation)\n",
        "\n",
        "# Your list of sentences\n",
        "sentences = [\"\"\"Muhammad Ali Jinnah played a pivotal role in the creation of Pakistan, which gained\n",
        "              independence from British rule on August 14, 1947.\n",
        "              Jinnah was a lawyer and politician who advocated for the rights of Muslims in British India.\n",
        "              He was the leader of the All-India Muslim League and was instrumental in negotiating for a\n",
        "              separate homeland for Muslims,\n",
        "              leading to the establishment of Pakistan as a separate nation for Muslims.\n",
        "              Jinnah served as Pakistan's first Governor-General until his death in 1948.\n",
        "              He is highly revered in Pakistan for his efforts in achieving independence and is often\n",
        "              referred to as Quaid-e-Azam Muhammad Ali Jinnah.\"\"\"]\n",
        "\n",
        "# Initialize an empty list to store the cleaned sentences\n",
        "q = []\n",
        "print(\"=========================sentences=========================\")\n",
        "print(sentences)\n",
        "for i in range(len(sentences)):\n",
        "    # Tokenize the sentence and convert to lowercase\n",
        "    words = nltk.word_tokenize(sentences[i].lower())\n",
        "    print(\"==================word_tokenize===========================\")\n",
        "    print(words)\n",
        "    # Remove punctuation from words\n",
        "    words = [word for word in words if word not in punctuation]\n",
        "    print(\"======================punctuation=======================\")\n",
        "    print(words)\n",
        "    # Lemmatization and filtering out stopwords\n",
        "    words = [lemmatizer.lemmatize(word) for word in words if word not in stop_words and word.isalnum()]\n",
        "    print(\"====================Lemmatization and filtering out stopwords=========================\")\n",
        "    print(words)\n",
        "    print(\"===================cleaned_sentence==========================\")\n",
        "    # Join the words back into a sentence\n",
        "    cleaned_sentence = ' '.join(words)\n",
        "    print(words)\n",
        "    # Append the cleaned sentence to the list\n",
        "    q.append(cleaned_sentence)\n",
        "print(q)"
      ],
      "metadata": {
        "colab": {
          "base_uri": "https://localhost:8080/"
        },
        "id": "PrjnchBevp3g",
        "outputId": "c04673de-3881-4c0d-937d-1166563243d1"
      },
      "execution_count": 10,
      "outputs": [
        {
          "output_type": "stream",
          "name": "stdout",
          "text": [
            "=========================sentences=========================\n",
            "[\"Muhammad Ali Jinnah played a pivotal role in the creation of Pakistan, which gained independence from British rule on August 14, 1947.\\n              Jinnah was a lawyer and politician who advocated for the rights of Muslims in British India.\\n              He was the leader of the All-India Muslim League and was instrumental in negotiating for a separate homeland for Muslims,\\n             leading to the establishment of Pakistan as a separate nation for Muslims.\\n             Jinnah served as Pakistan's first Governor-General until his death in 1948.\\n              He is highly revered in Pakistan for his efforts in achieving independence and is often referred to as Quaid-e-Azam Muhammad Ali Jinnah.\"]\n",
            "==================word_tokenize===========================\n",
            "['muhammad', 'ali', 'jinnah', 'played', 'a', 'pivotal', 'role', 'in', 'the', 'creation', 'of', 'pakistan', ',', 'which', 'gained', 'independence', 'from', 'british', 'rule', 'on', 'august', '14', ',', '1947.', 'jinnah', 'was', 'a', 'lawyer', 'and', 'politician', 'who', 'advocated', 'for', 'the', 'rights', 'of', 'muslims', 'in', 'british', 'india', '.', 'he', 'was', 'the', 'leader', 'of', 'the', 'all-india', 'muslim', 'league', 'and', 'was', 'instrumental', 'in', 'negotiating', 'for', 'a', 'separate', 'homeland', 'for', 'muslims', ',', 'leading', 'to', 'the', 'establishment', 'of', 'pakistan', 'as', 'a', 'separate', 'nation', 'for', 'muslims', '.', 'jinnah', 'served', 'as', 'pakistan', \"'s\", 'first', 'governor-general', 'until', 'his', 'death', 'in', '1948.', 'he', 'is', 'highly', 'revered', 'in', 'pakistan', 'for', 'his', 'efforts', 'in', 'achieving', 'independence', 'and', 'is', 'often', 'referred', 'to', 'as', 'quaid-e-azam', 'muhammad', 'ali', 'jinnah', '.']\n",
            "======================punctuation=======================\n",
            "['muhammad', 'ali', 'jinnah', 'played', 'a', 'pivotal', 'role', 'in', 'the', 'creation', 'of', 'pakistan', 'which', 'gained', 'independence', 'from', 'british', 'rule', 'on', 'august', '14', '1947.', 'jinnah', 'was', 'a', 'lawyer', 'and', 'politician', 'who', 'advocated', 'for', 'the', 'rights', 'of', 'muslims', 'in', 'british', 'india', 'he', 'was', 'the', 'leader', 'of', 'the', 'all-india', 'muslim', 'league', 'and', 'was', 'instrumental', 'in', 'negotiating', 'for', 'a', 'separate', 'homeland', 'for', 'muslims', 'leading', 'to', 'the', 'establishment', 'of', 'pakistan', 'as', 'a', 'separate', 'nation', 'for', 'muslims', 'jinnah', 'served', 'as', 'pakistan', \"'s\", 'first', 'governor-general', 'until', 'his', 'death', 'in', '1948.', 'he', 'is', 'highly', 'revered', 'in', 'pakistan', 'for', 'his', 'efforts', 'in', 'achieving', 'independence', 'and', 'is', 'often', 'referred', 'to', 'as', 'quaid-e-azam', 'muhammad', 'ali', 'jinnah']\n",
            "====================Lemmatization and filtering out stopwords=========================\n",
            "['muhammad', 'ali', 'jinnah', 'played', 'pivotal', 'role', 'creation', 'pakistan', 'gained', 'independence', 'british', 'rule', 'august', '14', 'jinnah', 'lawyer', 'politician', 'advocated', 'right', 'muslim', 'british', 'india', 'leader', 'muslim', 'league', 'instrumental', 'negotiating', 'separate', 'homeland', 'muslim', 'leading', 'establishment', 'pakistan', 'separate', 'nation', 'muslim', 'jinnah', 'served', 'pakistan', 'first', 'death', 'highly', 'revered', 'pakistan', 'effort', 'achieving', 'independence', 'often', 'referred', 'muhammad', 'ali', 'jinnah']\n",
            "===================cleaned_sentence==========================\n",
            "['muhammad', 'ali', 'jinnah', 'played', 'pivotal', 'role', 'creation', 'pakistan', 'gained', 'independence', 'british', 'rule', 'august', '14', 'jinnah', 'lawyer', 'politician', 'advocated', 'right', 'muslim', 'british', 'india', 'leader', 'muslim', 'league', 'instrumental', 'negotiating', 'separate', 'homeland', 'muslim', 'leading', 'establishment', 'pakistan', 'separate', 'nation', 'muslim', 'jinnah', 'served', 'pakistan', 'first', 'death', 'highly', 'revered', 'pakistan', 'effort', 'achieving', 'independence', 'often', 'referred', 'muhammad', 'ali', 'jinnah']\n",
            "['muhammad ali jinnah played pivotal role creation pakistan gained independence british rule august 14 jinnah lawyer politician advocated right muslim british india leader muslim league instrumental negotiating separate homeland muslim leading establishment pakistan separate nation muslim jinnah served pakistan first death highly revered pakistan effort achieving independence often referred muhammad ali jinnah']\n"
          ]
        }
      ]
    },
    {
      "cell_type": "code",
      "source": [
        "nltk.download('averaged_perceptron_tagger')\n",
        "\"\"\"nltk.download('averaged_perceptron_tagger') downloads the averaged perceptron tagger model used by NLTK for\n",
        "part-of-speech (POS) tagging. This model assigns grammatical categories (like noun, verb, adjective) to words\n",
        "in a sentence, aiding in understanding the grammatical structure of text.\"\"\""
      ],
      "metadata": {
        "colab": {
          "base_uri": "https://localhost:8080/"
        },
        "id": "FPLO0D8fzcQK",
        "outputId": "811a8810-dd8b-4bc8-8f3b-a1d1cdd1d866"
      },
      "execution_count": 12,
      "outputs": [
        {
          "output_type": "stream",
          "name": "stderr",
          "text": [
            "[nltk_data] Downloading package averaged_perceptron_tagger to\n",
            "[nltk_data]     /root/nltk_data...\n",
            "[nltk_data]   Unzipping taggers/averaged_perceptron_tagger.zip.\n"
          ]
        },
        {
          "output_type": "execute_result",
          "data": {
            "text/plain": [
              "True"
            ]
          },
          "metadata": {},
          "execution_count": 12
        }
      ]
    },
    {
      "cell_type": "code",
      "source": [
        "import nltk\n",
        "from nltk.corpus import stopwords\n",
        "from nltk.stem import WordNetLemmatizer\n",
        "import string\n",
        "from nltk import pos_tag\n",
        "from nltk.corpus import wordnet\n",
        "\n",
        "# Initialize lemmatizer, stopwords, and punctuation\n",
        "lemmatizer = WordNetLemmatizer()\n",
        "stop_words = set(stopwords.words('english'))\n",
        "punctuation = set(string.punctuation)\n",
        "\n",
        "# Function to convert NLTK POS tags to WordNet POS tags\n",
        "def get_wordnet_pos(treebank_tag):\n",
        "    if treebank_tag.startswith('J'):\n",
        "        return wordnet.ADJ\n",
        "    elif treebank_tag.startswith('V'):\n",
        "        return wordnet.VERB\n",
        "    elif treebank_tag.startswith('N'):\n",
        "        return wordnet.NOUN\n",
        "    elif treebank_tag.startswith('R'):\n",
        "        return wordnet.ADV\n",
        "    else:\n",
        "        return None"
      ],
      "metadata": {
        "id": "U-ZE_Aik13SJ"
      },
      "execution_count": null,
      "outputs": []
    },
    {
      "cell_type": "code",
      "source": [
        "# Your list of sentences\n",
        "sentences = [\"\"\"Muhammad Ali Jinnah played a pivotal role in the creation of Pakistan, which gained\n",
        "              independence from British rule on August 14, 1947.\n",
        "              Jinnah was a lawyer and politician who advocated for the rights of Muslims in British India.\n",
        "              He was the leader of the All-India Muslim League and was instrumental in negotiating for a\n",
        "              separate homeland for Muslims,\n",
        "              leading to the establishment of Pakistan as a separate nation for Muslims.\n",
        "              Jinnah served as Pakistan's first Governor-General until his death in 1948.\n",
        "              He is highly revered in Pakistan for his efforts in achieving independence and is often\n",
        "              referred to as Quaid-e-Azam Muhammad Ali Jinnah.\"\"\"]\n",
        "\n",
        "# Initialize an empty list to store the cleaned sentences\n",
        "q = []\n",
        "\n",
        "for i in range(len(sentences)):\n",
        "    # Tokenize the sentence and convert to lowercase\n",
        "    words = nltk.word_tokenize(sentences[i].lower())\n",
        "\n",
        "    # Remove punctuation from words\n",
        "    words = [word for word in words if word not in punctuation]\n",
        "    # POS tagging\n",
        "    tagged_words = pos_tag(words)\n",
        "    # Lemmatization using POS tagging and filtering out stopwords\n",
        "    words = [lemmatizer.lemmatize(word, get_wordnet_pos(tag)) if get_wordnet_pos(tag) else word for word,\n",
        "             tag in tagged_words\n",
        "             if word not in stop_words and word.isalnum()]\n",
        "\n",
        "    # Join the words back into a sentence\n",
        "    cleaned_sentence = ' '.join(words)\n",
        "    # Append the cleaned sentence to the list\n",
        "    q.append(cleaned_sentence)\n",
        "print(q)\n"
      ],
      "metadata": {
        "colab": {
          "base_uri": "https://localhost:8080/"
        },
        "id": "iEbesC72w1HP",
        "outputId": "849e2d05-9736-4a62-d86d-36460e4a7155"
      },
      "execution_count": 14,
      "outputs": [
        {
          "output_type": "stream",
          "name": "stdout",
          "text": [
            "['muhammad ali jinnah play pivotal role creation pakistan gain independence british rule august 14 jinnah lawyer politician advocate right muslim british india leader muslim league instrumental negotiate separate homeland muslim lead establishment pakistan separate nation muslim jinnah serve pakistan first death highly revere pakistan effort achieve independence often refer muhammad ali jinnah']\n"
          ]
        }
      ]
    }
  ]
}