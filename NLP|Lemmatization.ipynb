{
  "nbformat": 4,
  "nbformat_minor": 0,
  "metadata": {
    "colab": {
      "provenance": [],
      "authorship_tag": "ABX9TyOl/CgvOWSwhhz2HC4x/GD2",
      "include_colab_link": true
    },
    "kernelspec": {
      "name": "python3",
      "display_name": "Python 3"
    },
    "language_info": {
      "name": "python"
    }
  },
  "cells": [
    {
      "cell_type": "markdown",
      "metadata": {
        "id": "view-in-github",
        "colab_type": "text"
      },
      "source": [
        "<a href=\"https://colab.research.google.com/github/AtifQureshi110/NLP/blob/main/NLP%7CLemmatization.ipynb\" target=\"_parent\"><img src=\"https://colab.research.google.com/assets/colab-badge.svg\" alt=\"Open In Colab\"/></a>"
      ]
    },
    {
      "cell_type": "code",
      "execution_count": 1,
      "metadata": {
        "id": "PSN6g8aMtAoz"
      },
      "outputs": [],
      "source": [
        "import nltk"
      ]
    },
    {
      "cell_type": "code",
      "source": [
        "nltk.download('punkt')\n",
        "nltk.download('stopwords')\n",
        "nltk.download('wordnet')"
      ],
      "metadata": {
        "colab": {
          "base_uri": "https://localhost:8080/"
        },
        "id": "4dShBWANtG6Q",
        "outputId": "6fd432dc-4ebb-4565-8faa-c57d670fc5e8"
      },
      "execution_count": 2,
      "outputs": [
        {
          "output_type": "stream",
          "name": "stderr",
          "text": [
            "[nltk_data] Downloading package punkt to /root/nltk_data...\n",
            "[nltk_data]   Package punkt is already up-to-date!\n",
            "[nltk_data] Downloading package stopwords to /root/nltk_data...\n",
            "[nltk_data]   Package stopwords is already up-to-date!\n",
            "[nltk_data] Downloading package wordnet to /root/nltk_data...\n",
            "[nltk_data]   Package wordnet is already up-to-date!\n"
          ]
        },
        {
          "output_type": "execute_result",
          "data": {
            "text/plain": [
              "True"
            ]
          },
          "metadata": {},
          "execution_count": 2
        }
      ]
    },
    {
      "cell_type": "code",
      "source": [
        "from nltk.stem import WordNetLemmatizer\n",
        "from nltk.corpus import stopwords"
      ],
      "metadata": {
        "id": "mcxLfPfBu9od"
      },
      "execution_count": 3,
      "outputs": []
    },
    {
      "cell_type": "code",
      "source": [
        "\n",
        "paragraph = \"\"\"Muhammad Ali Jinnah played a pivotal role in the creation of Pakistan, which gained independence from British rule on August 14, 1947. \n",
        "               Jinnah was a lawyer and politician who advocated for the rights of Muslims in British India.\n",
        "               He was the leader of the All-India Muslim League and was instrumental in negotiating for a separate homeland for Muslims,\n",
        "                leading to the establishment of Pakistan as a separate nation for Muslims.\n",
        "                Jinnah served as Pakistan's first Governor-General until his death in 1948.\n",
        "                He is highly revered in Pakistan for his efforts in achieving independence and is often referred to as Quaid-e-Azam Muhammad Ali Jinnah.\"\"\""
      ],
      "metadata": {
        "id": "T1qHvgjXti38"
      },
      "execution_count": 10,
      "outputs": []
    },
    {
      "cell_type": "code",
      "source": [
        "paragraph.lower()"
      ],
      "metadata": {
        "colab": {
          "base_uri": "https://localhost:8080/",
          "height": 105
        },
        "id": "ReMt6fCNTItz",
        "outputId": "f667a28e-a95a-4349-d663-1a707fad8625"
      },
      "execution_count": 11,
      "outputs": [
        {
          "output_type": "execute_result",
          "data": {
            "text/plain": [
              "\"muhammad ali jinnah played a pivotal role in the creation of pakistan, which gained independence from british rule on august 14, 1947. \\n               jinnah was a lawyer and politician who advocated for the rights of muslims in british india.\\n               he was the leader of the all-india muslim league and was instrumental in negotiating for a separate homeland for muslims,\\n                leading to the establishment of pakistan as a separate nation for muslims.\\n                jinnah served as pakistan's first governor-general until his death in 1948.\\n                he is highly revered in pakistan for his efforts in achieving independence and is often referred to as quaid-e-azam muhammad ali jinnah.\""
            ],
            "application/vnd.google.colaboratory.intrinsic+json": {
              "type": "string"
            }
          },
          "metadata": {},
          "execution_count": 11
        }
      ]
    },
    {
      "cell_type": "code",
      "source": [
        "sentences = nltk.sent_tokenize(paragraph)\n",
        "lemmatizer = WordNetLemmatizer()"
      ],
      "metadata": {
        "id": "ajZacFwito_w"
      },
      "execution_count": 12,
      "outputs": []
    },
    {
      "cell_type": "code",
      "source": [
        "# Lemmatization\n",
        "words_1_ls=[]\n",
        "for i in range(len(sentences)):\n",
        "    words = nltk.word_tokenize(sentences[i].lower())\n",
        "    words = [lemmatizer.lemmatize(word) for word in words if word not in set(stopwords.words('english'))]\n",
        "    sentences[i] = ' '.join(words)\n",
        "    words_1_ls.append(sentences[i])\n",
        "words_1_ls"
      ],
      "metadata": {
        "colab": {
          "base_uri": "https://localhost:8080/"
        },
        "id": "gPGuG4iitlYW",
        "outputId": "cce30c89-b695-45ac-c91b-4f8fdbcc1475"
      },
      "execution_count": 13,
      "outputs": [
        {
          "output_type": "execute_result",
          "data": {
            "text/plain": [
              "['muhammad ali jinnah played pivotal role creation pakistan , gained independence british rule august 14 , 1947 .',\n",
              " 'jinnah lawyer politician advocated right muslim british india .',\n",
              " 'leader all-india muslim league instrumental negotiating separate homeland muslim , leading establishment pakistan separate nation muslim .',\n",
              " \"jinnah served pakistan 's first governor-general death 1948 .\",\n",
              " 'highly revered pakistan effort achieving independence often referred quaid-e-azam muhammad ali jinnah .']"
            ]
          },
          "metadata": {},
          "execution_count": 13
        }
      ]
    },
    {
      "cell_type": "code",
      "source": [
        "original = \"\"\"Muhammad Ali Jinnah played a pivotal role in the creation of Pakistan, which gained independence from British rule on August 14, 1947. \n",
        "               Jinnah was a lawyer and politician who advocated for the rights of Muslims in British India.\n",
        "               He was the leader of the All-India Muslim League and was instrumental in negotiating for a separate homeland for Muslims,\n",
        "                leading to the establishment of Pakistan as a separate nation for Muslims.\n",
        "                Jinnah served as Pakistan's first Governor-General until his death in 1948.\n",
        "                He is highly revered in Pakistan for his efforts in achieving independence and is often referred to as Quaid-e-Azam Muhammad Ali Jinnah.\"\"\""
      ],
      "metadata": {
        "id": "WjKMNNEk2eJ2"
      },
      "execution_count": 7,
      "outputs": []
    },
    {
      "cell_type": "code",
      "source": [],
      "metadata": {
        "id": "ovDQIDcpv1ZL"
      },
      "execution_count": null,
      "outputs": []
    }
  ]
}